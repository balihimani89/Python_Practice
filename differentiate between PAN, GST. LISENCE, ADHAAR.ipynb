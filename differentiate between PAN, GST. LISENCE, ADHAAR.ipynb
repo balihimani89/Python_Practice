{
 "cells": [
  {
   "cell_type": "markdown",
   "metadata": {},
   "source": [
    "# Create four different user defined functions to check whether the string is a GST Number, PAN Number, Driver's License Number or Adhaar Number. As an example.\n",
    "# A PAN Number looks like this:\n",
    "# ABCDE1234F\n",
    "# A GST Number looks like this:\n",
    "# 12ABCDE1234F78G\n",
    "# A Driver's Licence Number looks like this:\n",
    "# AB1234561234567\n",
    "# Adhaar Number looks like this:\n",
    "# 123412341234\n",
    "# Each function should return True if the number is PAN, GST, Driver's Licence or Adhaar Number otherwise it should return False\n",
    "# Check each of the four functions by passing a string to each of the functions and look for yourself that whether your function is working fine or not"
   ]
  },
  {
   "cell_type": "code",
   "execution_count": 74,
   "metadata": {},
   "outputs": [
    {
     "name": "stdout",
     "output_type": "stream",
     "text": [
      "Enter your id_no.:AB1234561234567\n",
      "AB1234561234567\n"
     ]
    }
   ],
   "source": [
    "id_no = input('Enter your id_no.:')\n",
    "print(id_no)\n",
    "str =id_no"
   ]
  },
  {
   "cell_type": "markdown",
   "metadata": {},
   "source": [
    "# We will solve this by using three methods.\n",
    "# Method 1: Long method with little accuracy"
   ]
  },
  {
   "cell_type": "code",
   "execution_count": 54,
   "metadata": {},
   "outputs": [],
   "source": [
    "numbers=['0','1','2','3','4','5','6','7','8','9']\n",
    "alphabets=['A','B','C','D','E','F','G','H','I','J','K','L','M','N','O','P','Q','R','S','T','U','V','W','X','Y','Z']\n",
    "def Adhaar_no(str):\n",
    "    if len(str)==12:\n",
    "        print(\"Adhaar_no \",str,\"is true\")\n",
    "    else:\n",
    "        print(\"Adhaar_no \",str,\"is false\")\n",
    "def Driver_Licence_Number(str):\n",
    "    if len(str)==15:\n",
    "        for j in alphabets:\n",
    "            if str[0]==j:\n",
    "                print(\"Driver's Licence Number \",str,\"is true\")\n",
    "            else:\n",
    "                print(\"GST Number \",str,\"is false\")\n",
    "                break\n",
    "def GST_Number(str):\n",
    "    if len(str)==15:\n",
    "        for i in numbers:\n",
    "            if str[0]==i:\n",
    "                print(\"GST Number \",str,\"is true\")\n",
    "            else:\n",
    "                print(\"GST Number \",str,\"is false\")\n",
    "                break\n",
    "def PAN_Number(str):\n",
    "    if len(str)==10:\n",
    "        print(\"PAN Number \",str,\"is true\")\n",
    "    else:\n",
    "        print(\"PAN Number \",str,\"is false\")\n",
    "\n",
    "\n"
   ]
  },
  {
   "cell_type": "code",
   "execution_count": 55,
   "metadata": {},
   "outputs": [
    {
     "name": "stdout",
     "output_type": "stream",
     "text": [
      "Adhaar_no  ASDF12341234 is true\n",
      "PAN Number  ASDF12341234 is false\n"
     ]
    }
   ],
   "source": [
    "Adhaar_no(str)\n",
    "Driver_Licence_Number(str)\n",
    "GST_Number(str)\n",
    "PAN_Number(str)"
   ]
  },
  {
   "cell_type": "markdown",
   "metadata": {},
   "source": [
    "# Method 2: Long method with higher accuracy.\n",
    "Note: GST number contains pan number. First two digits and last 3 are different."
   ]
  },
  {
   "cell_type": "code",
   "execution_count": 56,
   "metadata": {},
   "outputs": [
    {
     "data": {
      "text/plain": [
       "48"
      ]
     },
     "execution_count": 56,
     "metadata": {},
     "output_type": "execute_result"
    }
   ],
   "source": [
    "ord(\"0\")"
   ]
  },
  {
   "cell_type": "code",
   "execution_count": 57,
   "metadata": {},
   "outputs": [
    {
     "data": {
      "text/plain": [
       "57"
      ]
     },
     "execution_count": 57,
     "metadata": {},
     "output_type": "execute_result"
    }
   ],
   "source": [
    "ord(\"9\")"
   ]
  },
  {
   "cell_type": "code",
   "execution_count": 75,
   "metadata": {},
   "outputs": [
    {
     "name": "stdout",
     "output_type": "stream",
     "text": [
      "a 97\n",
      "A 65\n",
      "Z 90\n",
      "z 122\n"
     ]
    }
   ],
   "source": [
    "print(\"a\",ord(\"a\"))\n",
    "print(\"A\",ord(\"A\"))\n",
    "print(\"Z\",ord(\"Z\"))\n",
    "print(\"z\",ord(\"z\"))"
   ]
  },
  {
   "cell_type": "code",
   "execution_count": 111,
   "metadata": {},
   "outputs": [
    {
     "name": "stdout",
     "output_type": "stream",
     "text": [
      "Enter your id_no.:ABCDE1234F\n",
      "ABCDE1234F\n"
     ]
    }
   ],
   "source": [
    "id_no = input('Enter your id_no.:')\n",
    "print(id_no)\n",
    "str =id_no"
   ]
  },
  {
   "cell_type": "code",
   "execution_count": 154,
   "metadata": {},
   "outputs": [],
   "source": [
    "def Adhaar_no1(str):\n",
    "    if len(str)!=12:\n",
    "        return False\n",
    "    else:\n",
    "        for character in str[0:13]:\n",
    "            if ord(character)<48 or ord(character)>57:\n",
    "                return False\n",
    "            else:\n",
    "                return True\n",
    "def Driver_Licence_Number1(str):\n",
    "    if len(str)!=15:\n",
    "        return False\n",
    "    else:\n",
    "        for character in str[0:2]:\n",
    "            if ord(character)<65 or ord(character)>122:\n",
    "                return False\n",
    "        for character in str[3:16]:\n",
    "            \n",
    "            if ord(character)<48 or ord(character)>57:\n",
    "                return False\n",
    "            else:\n",
    "                return True\n",
    "def PAN_Number1(str):\n",
    "    if len(str)!=10:\n",
    "        return False\n",
    "    else:\n",
    "        for character in str[0:5]:\n",
    "            if ord(character)<65 or ord(character)>122:\n",
    "                return False\n",
    "        for character in str[6:9]:\n",
    "            \n",
    "            if ord(character)<48 or ord(character)>57:\n",
    "                return False\n",
    "        for character in str[9]:\n",
    "            if ord(character)<65 or ord(character)>122:\n",
    "                return False\n",
    "        \n",
    "            else:\n",
    "                return True\n",
    "def GST_Number1(str):\n",
    "    if len(str)!=15:\n",
    "        return False\n",
    "    else:\n",
    "        for character in str[0:2]:\n",
    "            if ord(character)<48 or ord(character)>57:\n",
    "                return False\n",
    "        for character in str[12:14]:\n",
    "            \n",
    "            if ord(character)<48 or ord(character)>57:\n",
    "                return False\n",
    "        for character in str[14]:\n",
    "            if ord(character)<65 or ord(character)>122:\n",
    "                return False\n",
    "        if PAN_Number2(str[2:12])!=True:\n",
    "            return False\n",
    "        else:\n",
    "            return True"
   ]
  },
  {
   "cell_type": "code",
   "execution_count": 155,
   "metadata": {},
   "outputs": [
    {
     "name": "stdout",
     "output_type": "stream",
     "text": [
      "Adhaar_no  False\n",
      "Driver_Licence_Number False\n",
      "PAN_Number False\n",
      "GST_Number True\n"
     ]
    }
   ],
   "source": [
    "Adhaar_no1(str)\n",
    "print(\"Adhaar_no \",Adhaar_no2(str))\n",
    "print(\"Driver_Licence_Number\",Driver_Licence_Number1(str))\n",
    "print(\"PAN_Number\",PAN_Number1(str))\n",
    "print(\"GST_Number\",GST_Number1(str))"
   ]
  },
  {
   "cell_type": "markdown",
   "metadata": {},
   "source": [
    "# Method 3: Short method with higher accuracy"
   ]
  },
  {
   "cell_type": "code",
   "execution_count": 92,
   "metadata": {},
   "outputs": [
    {
     "name": "stdout",
     "output_type": "stream",
     "text": [
      "AB12345678912\n"
     ]
    },
    {
     "data": {
      "text/plain": [
       "False"
      ]
     },
     "execution_count": 92,
     "metadata": {},
     "output_type": "execute_result"
    }
   ],
   "source": [
    "print(str[0:13])\n",
    "str[0:13].isdigit()\n",
    "      "
   ]
  },
  {
   "cell_type": "code",
   "execution_count": 94,
   "metadata": {},
   "outputs": [
    {
     "name": "stdout",
     "output_type": "stream",
     "text": [
      "True\n"
     ]
    },
    {
     "data": {
      "text/plain": [
       "True"
      ]
     },
     "execution_count": 94,
     "metadata": {},
     "output_type": "execute_result"
    }
   ],
   "source": [
    "print(\"1234\".isdigit())\n",
    "\"ABCD\".isalpha()\n"
   ]
  },
  {
   "cell_type": "code",
   "execution_count": 130,
   "metadata": {},
   "outputs": [
    {
     "name": "stdout",
     "output_type": "stream",
     "text": [
      "Enter your id_no.:12ABCDE1234F34G\n",
      "12ABCDE1234F34G\n"
     ]
    }
   ],
   "source": [
    "id_no = input('Enter your id_no.:')\n",
    "print(id_no)\n",
    "str =id_no"
   ]
  },
  {
   "cell_type": "code",
   "execution_count": 148,
   "metadata": {},
   "outputs": [],
   "source": [
    "def Adhaar_no2(str):\n",
    "    if len(str)==12 and str[0:13].isdigit()==True:\n",
    "        return True\n",
    "    else:\n",
    "        return False\n",
    "def Driver_Licence_Number2(str):\n",
    "    if len(str)==15 and str[0:2].isalpha()==True and str[3:16].isdigit()==True:\n",
    "        return True\n",
    "    else:\n",
    "        return False\n",
    "def PAN_Number2(str):\n",
    "    if len(str)==10 and str[0:5].isalpha()==True and str[6:9].isdigit()==True and str[9].isalpha()==True:\n",
    "        return True\n",
    "    else:\n",
    "        return False\n",
    "def GST_Number2(str):\n",
    "    if len(str)==15 and str[0:2].isdigit()==True and str[12:14].isdigit()==True and str[14].isalpha()==True and PAN_Number2(str[2:12])==True:\n",
    "        return True\n",
    "    else:\n",
    "        return False"
   ]
  },
  {
   "cell_type": "code",
   "execution_count": 149,
   "metadata": {},
   "outputs": [
    {
     "name": "stdout",
     "output_type": "stream",
     "text": [
      "Adhaar_no  False\n",
      "Driver_Licence_Number False\n",
      "PAN_Number False\n",
      "GST_Number True\n"
     ]
    }
   ],
   "source": [
    "print(\"Adhaar_no \",Adhaar_no2(str))\n",
    "print(\"Driver_Licence_Number\",Driver_Licence_Number2(str))\n",
    "print(\"PAN_Number\",PAN_Number2(str))\n",
    "print(\"GST_Number\",GST_Number2(str))"
   ]
  },
  {
   "cell_type": "code",
   "execution_count": 150,
   "metadata": {},
   "outputs": [
    {
     "data": {
      "text/plain": [
       "'BCDE1234F34G'"
      ]
     },
     "execution_count": 150,
     "metadata": {},
     "output_type": "execute_result"
    }
   ],
   "source": []
  },
  {
   "cell_type": "code",
   "execution_count": null,
   "metadata": {},
   "outputs": [],
   "source": []
  }
 ],
 "metadata": {
  "kernelspec": {
   "display_name": "Python 3",
   "language": "python",
   "name": "python3"
  },
  "language_info": {
   "codemirror_mode": {
    "name": "ipython",
    "version": 3
   },
   "file_extension": ".py",
   "mimetype": "text/x-python",
   "name": "python",
   "nbconvert_exporter": "python",
   "pygments_lexer": "ipython3",
   "version": "3.7.3"
  }
 },
 "nbformat": 4,
 "nbformat_minor": 2
}
