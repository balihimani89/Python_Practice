{
 "cells": [
  {
   "cell_type": "code",
   "execution_count": 122,
   "metadata": {},
   "outputs": [],
   "source": [
    "String_to_be_found=\"Hello\""
   ]
  },
  {
   "cell_type": "code",
   "execution_count": 123,
   "metadata": {},
   "outputs": [
    {
     "name": "stdout",
     "output_type": "stream",
     "text": [
      "5\n"
     ]
    }
   ],
   "source": [
    "print(len(String_to_be_found)) "
   ]
  },
  {
   "cell_type": "code",
   "execution_count": 124,
   "metadata": {},
   "outputs": [
    {
     "data": {
      "text/plain": [
       "['H', 'e', 'l', 'l', 'o']"
      ]
     },
     "execution_count": 124,
     "metadata": {},
     "output_type": "execute_result"
    }
   ],
   "source": [
    "list(String_to_be_found)"
   ]
  },
  {
   "cell_type": "code",
   "execution_count": 125,
   "metadata": {},
   "outputs": [],
   "source": [
    "hash_value_String=0\n",
    "for i in range(0,len(String_to_be_found)):\n",
    "    hash_value_String_to_be_found=(ord(String_to_be_found[i])*pow(11,i))\n",
    "    hash_value_String+=hash_value_String_to_be_found\n",
    "    "
   ]
  },
  {
   "cell_type": "code",
   "execution_count": 126,
   "metadata": {},
   "outputs": [
    {
     "data": {
      "text/plain": [
       "1783150"
      ]
     },
     "execution_count": 126,
     "metadata": {},
     "output_type": "execute_result"
    }
   ],
   "source": [
    "hash_value_String"
   ]
  },
  {
   "cell_type": "code",
   "execution_count": 127,
   "metadata": {},
   "outputs": [],
   "source": [
    "String_By_User=\"Hello Hello Hello Hello This is himani bali and I saying Hello to All\""
   ]
  },
  {
   "cell_type": "code",
   "execution_count": 128,
   "metadata": {},
   "outputs": [
    {
     "data": {
      "text/plain": [
       "['H',\n",
       " 'e',\n",
       " 'l',\n",
       " 'l',\n",
       " 'o',\n",
       " ' ',\n",
       " 'H',\n",
       " 'e',\n",
       " 'l',\n",
       " 'l',\n",
       " 'o',\n",
       " ' ',\n",
       " 'H',\n",
       " 'e',\n",
       " 'l',\n",
       " 'l',\n",
       " 'o',\n",
       " ' ',\n",
       " 'H',\n",
       " 'e',\n",
       " 'l',\n",
       " 'l',\n",
       " 'o',\n",
       " ' ',\n",
       " 'T',\n",
       " 'h',\n",
       " 'i',\n",
       " 's',\n",
       " ' ',\n",
       " 'i',\n",
       " 's',\n",
       " ' ',\n",
       " 'h',\n",
       " 'i',\n",
       " 'm',\n",
       " 'a',\n",
       " 'n',\n",
       " 'i',\n",
       " ' ',\n",
       " 'b',\n",
       " 'a',\n",
       " 'l',\n",
       " 'i',\n",
       " ' ',\n",
       " 'a',\n",
       " 'n',\n",
       " 'd',\n",
       " ' ',\n",
       " 'I',\n",
       " ' ',\n",
       " 's',\n",
       " 'a',\n",
       " 'y',\n",
       " 'i',\n",
       " 'n',\n",
       " 'g',\n",
       " ' ',\n",
       " 'H',\n",
       " 'e',\n",
       " 'l',\n",
       " 'l',\n",
       " 'o',\n",
       " ' ',\n",
       " 't',\n",
       " 'o',\n",
       " ' ',\n",
       " 'A',\n",
       " 'l',\n",
       " 'l']"
      ]
     },
     "execution_count": 128,
     "metadata": {},
     "output_type": "execute_result"
    }
   ],
   "source": [
    "list(String_By_User)"
   ]
  },
  {
   "cell_type": "code",
   "execution_count": 129,
   "metadata": {},
   "outputs": [
    {
     "name": "stdout",
     "output_type": "stream",
     "text": [
      "Hello IS PRESENT IN STRING\n",
      "Not Found\n",
      "Not Found\n",
      "Not Found\n",
      "Not Found\n",
      "Not Found\n",
      "Not Found\n",
      "Not Found\n",
      "Not Found\n",
      "Not Found\n",
      "Not Found\n",
      "Not Found\n",
      "Not Found\n",
      "Not Found\n",
      "Not Found\n",
      "Not Found\n",
      "Not Found\n",
      "Not Found\n",
      "Not Found\n",
      "Not Found\n",
      "Not Found\n",
      "Not Found\n",
      "Not Found\n",
      "Not Found\n",
      "Not Found\n",
      "Not Found\n",
      "Not Found\n",
      "Not Found\n",
      "Not Found\n",
      "Not Found\n",
      "Not Found\n",
      "Not Found\n",
      "Not Found\n",
      "Not Found\n",
      "Not Found\n",
      "Not Found\n",
      "Not Found\n",
      "Not Found\n",
      "Not Found\n",
      "Not Found\n",
      "Not Found\n",
      "Not Found\n",
      "Not Found\n",
      "Not Found\n",
      "Not Found\n",
      "Not Found\n",
      "Not Found\n",
      "Not Found\n",
      "Not Found\n",
      "Not Found\n",
      "Not Found\n",
      "Not Found\n",
      "Not Found\n",
      "Not Found\n",
      "Not Found\n",
      "Not Found\n",
      "Not Found\n",
      "Not Found\n",
      "Not Found\n",
      "Not Found\n",
      "Not Found\n",
      "Not Found\n",
      "Not Found\n",
      "Not Found\n",
      "Not Found\n"
     ]
    }
   ],
   "source": [
    "hash_value_SuperString=0\n",
    "p=0\n",
    "s=0\n",
    "L=len(String_to_be_found)\n",
    "while L<=len(String_By_User):\n",
    "    for i in range(s,L):\n",
    "        hash_value_String_By_User=(ord(String_By_User[i])*pow(11,p))\n",
    "        hash_value_SuperString+=hash_value_String_By_User\n",
    "        p+=1\n",
    "    if hash_value_SuperString==hash_value_String:\n",
    "        print(\"Hello IS PRESENT IN STRING\")\n",
    "    else:\n",
    "        print(\"Not Found\")\n",
    "    s+=1\n",
    "    L+=1\n",
    "    ##why L and S are not updating inside for loop but updating in while loop// ONLY FIRST HELLO IS TAKEN\n",
    "    "
   ]
  },
  {
   "cell_type": "code",
   "execution_count": 131,
   "metadata": {},
   "outputs": [
    {
     "name": "stdout",
     "output_type": "stream",
     "text": [
      "Hello IS PRESENT IN STRING\n",
      "NOT Found\n",
      "NOT Found\n",
      "NOT Found\n",
      "NOT Found\n",
      "NOT Found\n",
      "Hello IS PRESENT IN STRING\n",
      "NOT Found\n",
      "NOT Found\n",
      "NOT Found\n",
      "NOT Found\n",
      "NOT Found\n",
      "Hello IS PRESENT IN STRING\n",
      "NOT Found\n",
      "NOT Found\n",
      "NOT Found\n",
      "NOT Found\n",
      "NOT Found\n",
      "Hello IS PRESENT IN STRING\n",
      "NOT Found\n",
      "NOT Found\n",
      "NOT Found\n",
      "NOT Found\n",
      "NOT Found\n",
      "NOT Found\n",
      "NOT Found\n",
      "NOT Found\n",
      "NOT Found\n",
      "NOT Found\n",
      "NOT Found\n",
      "NOT Found\n",
      "NOT Found\n",
      "NOT Found\n",
      "NOT Found\n",
      "NOT Found\n",
      "NOT Found\n",
      "NOT Found\n",
      "NOT Found\n",
      "NOT Found\n",
      "NOT Found\n",
      "NOT Found\n",
      "NOT Found\n",
      "NOT Found\n",
      "NOT Found\n",
      "NOT Found\n",
      "NOT Found\n",
      "NOT Found\n",
      "NOT Found\n",
      "NOT Found\n",
      "NOT Found\n",
      "NOT Found\n",
      "NOT Found\n",
      "NOT Found\n",
      "NOT Found\n",
      "NOT Found\n",
      "NOT Found\n",
      "NOT Found\n",
      "Hello IS PRESENT IN STRING\n",
      "NOT Found\n",
      "NOT Found\n",
      "NOT Found\n",
      "NOT Found\n",
      "NOT Found\n",
      "NOT Found\n",
      "NOT Found\n"
     ]
    },
    {
     "ename": "IndexError",
     "evalue": "string index out of range",
     "output_type": "error",
     "traceback": [
      "\u001b[1;31m---------------------------------------------------------------------------\u001b[0m",
      "\u001b[1;31mIndexError\u001b[0m                                Traceback (most recent call last)",
      "\u001b[1;32m<ipython-input-131-be0bf3bae478>\u001b[0m in \u001b[0;36m<module>\u001b[1;34m\u001b[0m\n\u001b[0;32m     13\u001b[0m     \u001b[0mupdated_window_string_hash_value\u001b[0m\u001b[1;33m=\u001b[0m \u001b[0mhash_value_SuperString\u001b[0m\u001b[1;33m-\u001b[0m\u001b[1;33m(\u001b[0m\u001b[0mord\u001b[0m\u001b[1;33m(\u001b[0m\u001b[0mString_By_User\u001b[0m\u001b[1;33m[\u001b[0m\u001b[0mi\u001b[0m\u001b[1;33m]\u001b[0m\u001b[1;33m)\u001b[0m\u001b[1;33m*\u001b[0m\u001b[0mpow\u001b[0m\u001b[1;33m(\u001b[0m\u001b[1;36m11\u001b[0m\u001b[1;33m,\u001b[0m\u001b[1;36m0\u001b[0m\u001b[1;33m)\u001b[0m\u001b[1;33m)\u001b[0m\u001b[1;33m\u001b[0m\u001b[1;33m\u001b[0m\u001b[0m\n\u001b[0;32m     14\u001b[0m     \u001b[0mupdated_window_string_hash_value\u001b[0m\u001b[1;33m=\u001b[0m\u001b[0mupdated_window_string_hash_value\u001b[0m\u001b[1;33m//\u001b[0m\u001b[1;36m11\u001b[0m\u001b[1;33m\u001b[0m\u001b[1;33m\u001b[0m\u001b[0m\n\u001b[1;32m---> 15\u001b[1;33m     \u001b[0mupdated_window_string_hash_value\u001b[0m\u001b[1;33m=\u001b[0m\u001b[0mupdated_window_string_hash_value\u001b[0m\u001b[1;33m+\u001b[0m\u001b[1;33m(\u001b[0m\u001b[0mord\u001b[0m\u001b[1;33m(\u001b[0m\u001b[0mString_By_User\u001b[0m\u001b[1;33m[\u001b[0m\u001b[0mi\u001b[0m\u001b[1;33m+\u001b[0m\u001b[1;36m5\u001b[0m\u001b[1;33m]\u001b[0m\u001b[1;33m)\u001b[0m\u001b[1;33m*\u001b[0m\u001b[0mpow\u001b[0m\u001b[1;33m(\u001b[0m\u001b[1;36m11\u001b[0m\u001b[1;33m,\u001b[0m\u001b[1;36m4\u001b[0m\u001b[1;33m)\u001b[0m\u001b[1;33m)\u001b[0m\u001b[1;33m\u001b[0m\u001b[1;33m\u001b[0m\u001b[0m\n\u001b[0m\u001b[0;32m     16\u001b[0m     \u001b[0mhash_value_SuperString\u001b[0m\u001b[1;33m=\u001b[0m\u001b[0mupdated_window_string_hash_value\u001b[0m\u001b[1;33m\u001b[0m\u001b[1;33m\u001b[0m\u001b[0m\n\u001b[0;32m     17\u001b[0m \u001b[1;33m\u001b[0m\u001b[0m\n",
      "\u001b[1;31mIndexError\u001b[0m: string index out of range"
     ]
    }
   ],
   "source": [
    "hash_value_SuperString=0\n",
    "p=0\n",
    "i=0\n",
    "for character in String_By_User[0:5]:\n",
    "    hash_value_String_By_User=(ord(character)*pow(11,p))\n",
    "    hash_value_SuperString+=hash_value_String_By_User\n",
    "    p+=1\n",
    "for i in range(len(String_By_User)):\n",
    "    if hash_value_SuperString==hash_value_String:\n",
    "        print(\"Hello IS PRESENT IN STRING\")\n",
    "    else:\n",
    "        print(\"NOT Found\")\n",
    "    updated_window_string_hash_value= hash_value_SuperString-(ord(String_By_User[i])*pow(11,0))\n",
    "    updated_window_string_hash_value=updated_window_string_hash_value//11\n",
    "    updated_window_string_hash_value=updated_window_string_hash_value+(ord(String_By_User[i+5])*pow(11,4))\n",
    "    hash_value_SuperString=updated_window_string_hash_value\n",
    "\n",
    "    \n",
    "    "
   ]
  },
  {
   "cell_type": "code",
   "execution_count": null,
   "metadata": {},
   "outputs": [],
   "source": []
  }
 ],
 "metadata": {
  "kernelspec": {
   "display_name": "Python 3",
   "language": "python",
   "name": "python3"
  },
  "language_info": {
   "codemirror_mode": {
    "name": "ipython",
    "version": 3
   },
   "file_extension": ".py",
   "mimetype": "text/x-python",
   "name": "python",
   "nbconvert_exporter": "python",
   "pygments_lexer": "ipython3",
   "version": "3.7.3"
  }
 },
 "nbformat": 4,
 "nbformat_minor": 2
}
