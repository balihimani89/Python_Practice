{
 "cells": [
  {
   "cell_type": "code",
   "execution_count": 94,
   "metadata": {},
   "outputs": [],
   "source": [
    "def Inputs(N,k):\n",
    "    N=int(input(\"USER: Input the value of ‘N’times tossing the coin (should not be greater than 10):\"))\n",
    "    if N>10:\n",
    "        print(\"enter again\")\n",
    "        Inputs(N,k)    \n",
    "    else:\n",
    "        k=int(input(\"USER: Input the value of ‘K’:Probability of occurrence of ‘k’ number of desired outcomes:\"))\n",
    "        print(\"The value of N is {} and k is {}\".format(N,k))\n",
    "    return(N,k)\n",
    "    \n",
    "    "
   ]
  },
  {
   "cell_type": "code",
   "execution_count": 80,
   "metadata": {},
   "outputs": [],
   "source": [
    "def factorial(num):\n",
    "    for i in range (2,num,1):\n",
    "        num=num*i\n",
    "    return num"
   ]
  },
  {
   "cell_type": "code",
   "execution_count": 81,
   "metadata": {},
   "outputs": [],
   "source": [
    "p=q=0.5\n",
    "def P_X_equals_k(N,k):\n",
    "    ᴺCₖ= factorial(N)/(factorial(k)*factorial(N-k))\n",
    "    print(\"The value of is factorial(N) is \",factorial(N))\n",
    "    print(\"The value of is factorial(k) is \",factorial(k))\n",
    "    print(\"The value of is factorial(N-k) is \",factorial(N-k))\n",
    "    print(\"The value of ᴺCₖ is \",ᴺCₖ)\n",
    "    P_X_equals_k=ᴺCₖ*pow(p,k)*pow(q,N-k)\n",
    "    print(\"The value of P(X={}) is\".format(k),P_X_equals_k)\n",
    "    return(ᴺCₖ,P_X_equals_k)\n",
    "    "
   ]
  },
  {
   "cell_type": "code",
   "execution_count": 97,
   "metadata": {},
   "outputs": [
    {
     "name": "stdout",
     "output_type": "stream",
     "text": [
      "USER: Input the value of ‘N’times tossing the coin (should not be greater than 10):77\n",
      "enter again\n",
      "USER: Input the value of ‘N’times tossing the coin (should not be greater than 10):5\n",
      "USER: Input the value of ‘K’:Probability of occurrence of ‘k’ number of desired outcomes:4\n",
      "The value of N is 5 and k is 4\n",
      "The value of is factorial(N) is  120\n",
      "The value of is factorial(k) is  24\n",
      "The value of is factorial(N-k) is  1\n",
      "The value of ᴺCₖ is  5.0\n",
      "The value of P(X=4) is 0.15625\n"
     ]
    },
    {
     "data": {
      "text/plain": [
       "(5.0, 0.15625)"
      ]
     },
     "execution_count": 97,
     "metadata": {},
     "output_type": "execute_result"
    }
   ],
   "source": [
    "Inputs(N,k)\n",
    "P_X_equals_k(N,k)"
   ]
  },
  {
   "cell_type": "code",
   "execution_count": null,
   "metadata": {},
   "outputs": [],
   "source": []
  }
 ],
 "metadata": {
  "kernelspec": {
   "display_name": "Python 3",
   "language": "python",
   "name": "python3"
  },
  "language_info": {
   "codemirror_mode": {
    "name": "ipython",
    "version": 3
   },
   "file_extension": ".py",
   "mimetype": "text/x-python",
   "name": "python",
   "nbconvert_exporter": "python",
   "pygments_lexer": "ipython3",
   "version": "3.7.3"
  }
 },
 "nbformat": 4,
 "nbformat_minor": 2
}
