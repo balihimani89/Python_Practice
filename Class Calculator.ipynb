{
 "cells": [
  {
   "cell_type": "code",
   "execution_count": 15,
   "metadata": {},
   "outputs": [],
   "source": [
    "#Tkinter is the standard GUI library for Python. Python when combined with Tkinter provides a fast and easy way to \n",
    "#create GUI applications."
   ]
  },
  {
   "cell_type": "code",
   "execution_count": 1,
   "metadata": {},
   "outputs": [],
   "source": [
    "from  tkinter import *\n",
    "from tkinter.ttk import Combobox\n",
    "from tkinter import messagebox as mbox\n",
    "from csv import reader"
   ]
  },
  {
   "cell_type": "code",
   "execution_count": 2,
   "metadata": {},
   "outputs": [],
   "source": [
    "#The Entry Widget is a Tkinter Widget used to Enter or display a single line of text.\n",
    "#Syntax :\n",
    "\n",
    "#entry = tk.Entry(parent, options)\n",
    "#Parameters:\n",
    "#1) parent: The Parent window or frame in which the widget to display.\n",
    "\n",
    "#2) Options: The various options provided by the entry widget are:\n",
    "\n",
    "#bg : The normal background color displayed behind the label and indicator.\n",
    "#bd : The size of the border around the indicator. Default is 2 pixels.\n",
    "#font : The font used for the text.\n",
    "#fg : The color used to render the text.\n",
    "#justify : If the text contains multiple lines, this option controls how the text is justified: CENTER, LEFT, or RIGHT.\n",
    "#relief : With the default value, relief=FLAT. You may set this option to any of the other styles like : SUNKEN, RIGID, RAISED, GROOVE\n",
    "#show : Normally, the characters that the user types appear in the entry. To make a .password. entry that echoes each character as an asterisk, set show=”*”.\n",
    "#textvariable : In order to be able to retrieve the current text from your entry widget, you must set this option to an instance of the StringVar class.\n",
    "#Methods: The various methods provided by the entry widget are:\n",
    "\n",
    "#get() : Returns the entry’s current text as a string.\n",
    "#delete() : Deletes characters from the widget\n",
    "#insert ( index, ‘name’) : Inserts string ‘name’ before the character at the given index.\n",
    "\n",
    "#tkinter also offers access to the geometric configuration of the widgets which can organize the widgets in the parent windows. There are mainly three geometry manager classes class.\n",
    "\n",
    "#pack() method:It organizes the widgets in blocks before placing in the parent widget.\n",
    "#grid() method:It organizes the widgets in grid (table-like structure) before placing in the parent widget.\n",
    "#place() method:It organizes the widgets by placing them on specific positions directed by the programmer.\n",
    "\n",
    "#Python | pack() method in Tkinter\n",
    "#The Pack geometry manager packs widgets in rows or columns. We can use options like fill, expand, and side to control this geometry manager.\n",
    "\n",
    "#Compared to the grid manager, the pack manager is somewhat limited, but it’s much easier to use in a few, but quite common situations:\n",
    "\n",
    "#Put a widget inside a frame (or any other container widget), and have it fill the entire frame\n",
    "#Place a number of widgets on top of each other\n",
    "#Place a number of widgets side by side\n"
   ]
  },
  {
   "cell_type": "code",
   "execution_count": 3,
   "metadata": {},
   "outputs": [],
   "source": [
    "tkter = Tk()    #creating tk window\n",
    "tkter.geometry(\"600x600\")\n",
    "pic = PhotoImage(file=\"Student.png\")\n",
    "Label(tkter, image=pic,bg='snow', bd=0).pack()  ##bg=Background, bd : The size of the border"
   ]
  },
  {
   "cell_type": "code",
   "execution_count": 4,
   "metadata": {},
   "outputs": [
    {
     "data": {
      "text/plain": [
       "''"
      ]
     },
     "execution_count": 4,
     "metadata": {},
     "output_type": "execute_result"
    }
   ],
   "source": [
    "# Defining Title to the application\n",
    "tkter.title('Percentage Calculator')"
   ]
  },
  {
   "cell_type": "code",
   "execution_count": 5,
   "metadata": {},
   "outputs": [],
   "source": [
    "with open('STUDENTS_MARKS.csv', 'r') as read_obj:\n",
    "    # pass the file object to reader() to get the reader object\n",
    "    data = reader(read_obj)\n",
    "    # Pass reader object to list() to get a list of lists\n",
    "    list_of_rows = list(data)"
   ]
  },
  {
   "cell_type": "code",
   "execution_count": 6,
   "metadata": {},
   "outputs": [],
   "source": [
    "#Creating Labels \n",
    "lbl=Label(tkter, text=\"NAME_OF STUDENT\", bg='snow',fg='black', font=(\"arial\", 16)) #fg = font color\n",
    "lbl.place(x=0, y=30)\n",
    "\n",
    "SCIENCE=Entry(bg='green yellow')\n",
    "SCIENCE.place(x=200, y=60,width=150,height=30)\n",
    "\n",
    "lbl1=Label(tkter, text=\"Marks In Science:\", fg='green yellow', font=(\"arial\", 16))\n",
    "lbl1.place(x=0, y=60)\n",
    "\n",
    "SST=Entry(bg='SlateBlue2')\n",
    "SST.place(x=200, y=90,width=150,height=30)\n",
    "lbl2=Label(tkter, text=\"Marks In SST:\", fg='SlateBlue2', font=(\"arial\", 16))\n",
    "lbl2.place(x=0, y=90)\n",
    "\n",
    "MATHS=Entry(bg=\"red\")\n",
    "MATHS.place(x=200, y=120,width=150,height=30)\n",
    "lbl3=Label(tkter, text=\"Marks In MATHS:\", fg='red', font=(\"arial\", 16))\n",
    "lbl3.place(x=0, y=120)\n",
    "\n",
    "ENGLISH=Entry()\n",
    "ENGLISH.place(x=200, y=150,width=150,height=30)\n",
    "lbl4=Label(tkter, text=\"Marks In ENGLISH:\", font=(\"arial\", 16))\n",
    "lbl4.place(x=0, y=150)\n",
    "\n",
    "HINDI=Entry(bg='goldenrod')\n",
    "HINDI.place(x=200, y=180,width=150,height=30)                \n",
    "lbl5=Label(tkter, text=\"Marks In HINDI:\", fg='goldenrod', font=(\"arial\", 16))\n",
    "lbl5.place(x=0, y=180)"
   ]
  },
  {
   "cell_type": "code",
   "execution_count": 7,
   "metadata": {},
   "outputs": [],
   "source": [
    "data1=[] #name\n",
    "data2=[] #values corressponding to name\n",
    "#Creating List using Loop\n",
    "for i in range(len(list_of_rows)):\n",
    "    data1.append(list_of_rows[i])\n",
    "    data2.append(data1[i][0])  #data1 is a two dimentional value"
   ]
  },
  {
   "cell_type": "code",
   "execution_count": 8,
   "metadata": {},
   "outputs": [
    {
     "name": "stdout",
     "output_type": "stream",
     "text": [
      "[['Name', 'SCIENCE', 'SST', 'MATHS', 'ENGLISH', 'HINDI'], ['Akanksh', '55', '67', '78', '98', '23'], ['Rishav Gupta', '78', '98', '23', '55', '62'], ['Sunakshi', '35', '67', '89', '23', '56'], ['Vidhi', '55', '76', '78', '98', '65'], ['Shivam Sharma', '39', '67', '35', '87', '43'], ['Prisheeta Gupta', '77', '76', '80', '39', '40'], ['Pranv Jain', '39', '67', '35', '87', '43'], ['Maan Kaur', '77', '76', '80', '39', '40'], ['Mohak', '39', '67', '35', '87', '43'], ['Manik tbs', '77', '76', '80', '39', '40'], ['Akanksh', '55', '67', '78', '98', '23']]\n",
      "NEXT DATA 2\n",
      "['Name', 'Akanksh', 'Rishav Gupta', 'Sunakshi', 'Vidhi', 'Shivam Sharma', 'Prisheeta Gupta', 'Pranv Jain', 'Maan Kaur', 'Mohak', 'Manik tbs', 'Akanksh']\n"
     ]
    }
   ],
   "source": [
    "data1.append(list_of_rows[1])\n",
    "print(data1)\n",
    "print(\"NEXT DATA 2\")\n",
    "data2.append(data1[1][0])\n",
    "print(data2)"
   ]
  },
  {
   "cell_type": "code",
   "execution_count": 9,
   "metadata": {},
   "outputs": [],
   "source": [
    "#Creating Function for clearing the text boxes\n",
    "def enable_items():\n",
    "   \n",
    "    SCIENCE.configure(state='normal')  # on \n",
    "    SST.configure(state='normal')\n",
    "    MATHS.configure(state='normal')\n",
    "    ENGLISH.configure(state='normal')\n",
    "    HINDI.configure(state='normal')\n",
    "    \n",
    " \n",
    "    SCIENCE.delete(0, 'end')\n",
    "    SST.delete(0, 'end')\n",
    "    MATHS.delete(0, 'end')\n",
    "    ENGLISH.delete(0, 'end')  \n",
    "    HINDI.delete(0, 'end') \n",
    "    \n",
    "    PERCENTAGE.configure(state='normal')\n",
    "    PERCENTAGE.delete(0, 'end')\n",
    "    \n",
    "    TOTAL_MARKS.configure(state='normal')\n",
    "    TOTAL_MARKS.delete(0, 'end')"
   ]
  },
  {
   "cell_type": "code",
   "execution_count": 10,
   "metadata": {},
   "outputs": [],
   "source": [
    "##Creating Function for student data into text boxes and disabling it\n",
    "def on_Data_changed():\n",
    "    #print(data1)\n",
    "    enable_items()\n",
    "    for i in range(len(data1)):\n",
    "            #print(data1)\n",
    "    \n",
    "            dat=data1[i][0]\n",
    "            if cb.get()==dat:\n",
    "               \n",
    "                SCIENCE.insert(END, data1[i][1])\n",
    "                SST.insert(END, data1[i][2])\n",
    "                MATHS.insert(END, data1[i][3])\n",
    "                ENGLISH.insert(END, data1[i][4])\n",
    "                HINDI.insert(END, data1[i][5])\n",
    "                \n",
    "                \n",
    "              \n",
    "                SCIENCE.configure(state='disabled')\n",
    "                SST.configure(state='disabled')\n",
    "                MATHS.configure(state='disabled')\n",
    "                ENGLISH.configure(state='disabled')\n",
    "                HINDI.configure(state='disabled')"
   ]
  },
  {
   "cell_type": "code",
   "execution_count": 11,
   "metadata": {},
   "outputs": [],
   "source": [
    "#Settingup Data for Combobox\n",
    "cb=Combobox(tkter,values=data2)    #CREATE DROP DOWN LIST\n",
    "cb.place(x=250, y=30,width=150,height=30)\n",
    "\n",
    "clk = Button(tkter, text='Click',bg=\"snow\",fg=\"red\",command=on_Data_changed) #CREATE BUTTON APON CLICKING\n",
    "clk.place(x=400, y=30,height=30)\n",
    "#print(data1)\n"
   ]
  },
  {
   "cell_type": "code",
   "execution_count": 12,
   "metadata": {},
   "outputs": [],
   "source": [
    "#Creating function for Total Marks calculation\n",
    "def TOTAL_MARKS_of_Students():\n",
    "        num1=int(SCIENCE.get())\n",
    "        num2=int(SST.get())\n",
    "        num3=int(MATHS.get())\n",
    "        num4=int(ENGLISH.get())\n",
    "        num5=int(HINDI.get())\n",
    "       \n",
    "        \n",
    "        Marks=num1+num2+num3+num4+num5\n",
    "        TOTAL_MARKS.insert(END, str(Marks))\n",
    "        TOTAL_MARKS.configure(state='disabled')\n"
   ]
  },
  {
   "cell_type": "code",
   "execution_count": 14,
   "metadata": {},
   "outputs": [],
   "source": [
    "#Creating function for Percentage calculation\n",
    "def percentage():\n",
    "        num1=int(SCIENCE.get())\n",
    "        num2=int(SST.get())\n",
    "        num3=int(MATHS.get())\n",
    "        num4=int(ENGLISH.get())\n",
    "        num5=int(HINDI.get())\n",
    "        \n",
    "        result=round(((num1+num2+num3+num4+num5)/500)*100,2)\n",
    "        PERCENTAGE.insert(END, str(result)) \n",
    "        PERCENTAGE.configure(state='disabled')"
   ]
  },
  {
   "cell_type": "code",
   "execution_count": null,
   "metadata": {},
   "outputs": [],
   "source": [
    "#creating Buttons             \n",
    "TOTAL_MARKS = Button(tkter, text='Total Marks',bg=\"blue\",fg=\"white\",command=TOTAL_MARKS_of_Students)\n",
    "TOTAL_MARKS.place(x=150, y=230)\n",
    "\n",
    "PERCENTAGE=Button(tkter, text='Result',bg=\"green\",fg=\"white\",command=percentage)\n",
    "PERCENTAGE.place(x=250, y=230)\n",
    "\n",
    "TOTAL_MARKS=Entry()\n",
    "TOTAL_MARKS.place(x=250, y=260,width=150,height=30)\n",
    "lbl6=Label(tkter, text=\"Total Marks Out of 500:\", fg='black', font=(\"arial\", 16))\n",
    "lbl6.place(x=0, y=260)\n",
    "\n",
    "lbl6=Label(tkter, text=\"Addition of all Marks in 5 Subjects\", fg='red', font=(\"arial\", 10))\n",
    "lbl6.place(x=100, y=300)\n",
    "\n",
    "PERCENTAGE=Entry()\n",
    "PERCENTAGE.place(x=200, y=330,width=150,height=30)\n",
    "lbl7=Label(tkter, text=\"Percentage:\", fg='black', font=(\"arial\", 16))\n",
    "lbl7.place(x=0, y=330)\n",
    "\n",
    "lbl7=Label(tkter, text=\"(TOTAL_MARKS/500)*100\", fg='red', font=(\"arial\", 10))\n",
    "lbl7.place(x=100, y=370)\n",
    "tkter.mainloop()"
   ]
  },
  {
   "cell_type": "code",
   "execution_count": null,
   "metadata": {},
   "outputs": [],
   "source": []
  },
  {
   "cell_type": "code",
   "execution_count": null,
   "metadata": {},
   "outputs": [],
   "source": []
  }
 ],
 "metadata": {
  "kernelspec": {
   "display_name": "Python 3",
   "language": "python",
   "name": "python3"
  },
  "language_info": {
   "codemirror_mode": {
    "name": "ipython",
    "version": 3
   },
   "file_extension": ".py",
   "mimetype": "text/x-python",
   "name": "python",
   "nbconvert_exporter": "python",
   "pygments_lexer": "ipython3",
   "version": "3.7.3"
  }
 },
 "nbformat": 4,
 "nbformat_minor": 2
}
