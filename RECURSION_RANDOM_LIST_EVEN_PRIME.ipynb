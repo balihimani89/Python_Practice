{
 "cells": [
  {
   "cell_type": "markdown",
   "metadata": {},
   "source": [
    "# Write a program to go through 1000 random integers and check whether they are even or prime. In order to create a list of 1000 random integers, you can write the following statement:\n",
    "# import numpy as np\n",
    "# random_integers = np.random.randint(low=0, high=2000, size=(1000,))\n",
    "Now pass the list of these 1000 random integers to a user defined function called even_prime_list_creation. This function will accept a list of 1000 random integers and return two lists of even as well as prime numbers. Make sure that your function does this in a recursive manner (remember that you can't use loop to go through each number in a list of 1000 random integers, that has to be done in a recursive manner)\n",
    "\n",
    "Now, in order to create a list of even as well as prime numbers, even_prime_list_creation should know that which number is an even number and which number is a prime number. Well even number is easy to check so your function even_prime_list_creation can itself check whether the number is even or not but in order to check whether the number is prime or not, even_prime_list_creation is going to call another function called is_prime. This, is_prime function will accept a number and check whether it's prime or not in a recursive manner (again you can't use a loop to check whether the number is prime or not, that has to be done in a recursive manner) and is going to return True or False accordingly.\n",
    "\n",
    "So, both functions should do their job in a recursive manner. And the final outcome should be two lists, one of even number and one of prime numbers."
   ]
  },
  {
   "cell_type": "code",
   "execution_count": 14,
   "metadata": {},
   "outputs": [],
   "source": [
    "import numpy as np"
   ]
  },
  {
   "cell_type": "code",
   "execution_count": 15,
   "metadata": {},
   "outputs": [],
   "source": [
    "rand_nos = np.random.randint(low=0, high=2000, size=(1000,))\n",
    "random_integers= list(rand_nos)"
   ]
  },
  {
   "cell_type": "code",
   "execution_count": 16,
   "metadata": {},
   "outputs": [],
   "source": [
    "#Function for only prime numbers#\n",
    "def is_prime(number,divisor):\n",
    "    \n",
    "    if number==1 or number==2:\n",
    "            return True \n",
    "    else:\n",
    "        if divisor==number:\n",
    "            return True\n",
    "        if number% divisor == 0:\n",
    "            return False       \n",
    "        bool_value=is_prime(number,divisor+1)\n",
    "    return bool_value"
   ]
  },
  {
   "cell_type": "code",
   "execution_count": 17,
   "metadata": {},
   "outputs": [
    {
     "name": "stdout",
     "output_type": "stream",
     "text": [
      "Even: [970, 20, 1412, 630, 1620, 276, 1954, 942, 898, 116, 1290, 592, 1704, 1952, 1542, 446, 592, 654, 868, 1370, 1388, 860, 508, 72, 450, 296, 244, 16, 1016, 1982, 1534, 420, 1322, 1062, 496, 24, 168, 60, 1578, 864, 50, 518, 1508, 1664, 558, 494, 664, 756, 1464, 392, 1368, 670, 120, 1308, 1404, 1424, 1114, 1050, 1622, 1152, 436, 374, 1420, 1986, 1456, 1736, 1200, 1682, 146, 1652, 884, 914, 1082, 826, 590, 90, 964, 394, 1584, 1818, 294, 718, 738, 930, 22, 1582, 1466, 1948, 1738, 864, 1700, 694, 218, 1644, 868, 128, 1464, 172, 72, 706, 488, 1290, 528, 1158, 864, 430, 544, 492, 118, 736, 430, 1874, 910, 904, 92, 1518, 1886, 1908, 1994, 580, 1640, 1004, 1632, 600, 8, 146, 156, 1190, 1092, 1174, 818, 16, 1748, 1636, 262, 998, 1270, 332, 1330, 840, 1566, 1450, 246, 1266, 1972, 382, 56, 592, 1674, 224, 396, 1180, 314, 1046, 1992, 1260, 1412, 846, 30, 1594, 1566, 326, 1372, 1236, 104, 886, 1440, 388, 256, 272, 112, 1348, 1810, 808, 318, 1640, 1590, 652, 738, 1014, 1544, 74, 1574, 1678, 178, 480, 956, 1422, 1460, 1718, 1618, 1632, 926, 1746, 1274, 1950, 804, 538, 1426, 1020, 1020, 1154, 1586, 1952, 1506, 1118, 1768, 1810, 254, 218, 1558, 96, 1468, 898, 868, 1288, 1906, 154, 962, 778, 24, 1830, 1964, 1024, 1264, 762, 644, 1486, 500, 1176, 1964, 850, 986, 370, 636, 1600, 1382, 352, 140, 342, 1016, 174, 218, 482, 1910, 322, 1506, 366, 352, 766, 936, 1456, 1248, 1872, 126, 1592, 886, 468, 122, 358, 1026, 802, 1778, 630, 1958, 428, 422, 582, 1998, 1378, 594, 1574, 134, 1030, 1430, 238, 1368, 796, 392, 204, 1666, 690, 1702, 742, 1140, 976, 1666, 44, 730, 1706, 736, 1694, 1038, 680, 1876, 690, 68, 1002, 1048, 454, 470, 598, 300, 1000, 262, 1022, 1578, 290, 1308, 1930, 1088, 1530, 1124, 1106, 6, 1034, 1182, 1078, 1764, 894, 1186, 1050, 1180, 1614, 1366, 648, 508, 1456, 448, 596, 1514, 1738, 940, 242, 1806, 126, 96, 790, 1750, 1262, 1392, 456, 686, 1008, 810, 956, 1612, 1186, 1732, 118, 1912, 984, 1116, 1288, 690, 1064, 544, 646, 1186, 1492, 1232, 364, 1774, 430, 484, 74, 1118, 1176, 664, 1842, 1014, 518, 642, 460, 1544, 190, 1340, 516, 1802, 492, 208, 1492, 20, 944, 1294, 1816, 1702, 506, 640, 578, 402, 1578, 644, 1720, 492, 1738, 1284, 1778, 246, 1074, 1690, 1528, 1040, 898, 332, 950, 846, 694, 18, 844, 790, 90, 768, 118, 446, 730, 1130, 908, 1334, 62, 282, 720, 1162, 336, 176, 538, 522, 1718, 970, 1298, 152, 1710, 1838, 162, 680, 1032, 996, 288, 1298, 142, 848, 1094, 1234, 848, 956, 92, 1668, 1364, 1160, 392, 1346, 1090, 1544, 588, 444, 1428, 918, 692, 932, 274, 1124, 1220, 1652, 82, 1888, 1194, 1446, 370, 1684, 318, 784, 1108, 1772, 1642, 210, 1386, 1928, 750, 1458, 284, 960, 1620, 846, 998, 1308, 1688]\n",
      "Prime: [1381, 1579, 733, 11, 683, 769, 1913, 293, 661, 1193, 157, 1459, 727, 1621, 701, 151, 809, 101, 401, 1481, 179, 479, 107, 127, 1453, 1, 37, 29, 1753, 1321, 509, 1669, 419, 1999, 193, 47, 1301, 1031, 601, 911, 251, 727, 179, 971, 89, 499, 971, 1, 859, 823, 139, 1531, 479, 659, 1213, 19, 167, 1931, 757, 547, 29, 1291, 191, 1889, 29, 1861, 1973, 983, 463, 1699, 157, 59, 1171, 1699, 1847, 1087, 1637, 479, 1291, 829, 1249, 1453, 547, 1583, 701, 467, 31, 139, 1997, 293, 1103, 149, 1759, 769, 1783, 751, 167, 419, 457, 1069, 47, 1699, 761, 643, 1747, 1033, 1381, 1823, 1487, 257, 1867, 463, 1201, 1069, 1217, 1753, 1123, 1667, 1579, 1237, 1019, 1433, 389, 1151, 1901, 1123, 1051, 503, 1933, 1993, 659, 599, 431, 197, 1987, 659, 1453, 1031, 257, 563, 1277, 1229, 409, 1129, 727, 859, 179, 1721, 311, 733, 983, 1777, 1619, 673, 23, 173, 83, 1627, 547, 1051, 751]\n"
     ]
    }
   ],
   "source": [
    "even=[]\n",
    "prime=[]\n",
    "#Function for both even and prime#\n",
    "def even_prime(random_integers):\n",
    "    if len(random_integers)==0:\n",
    "        return \n",
    "    if random_integers[0]%2==0:\n",
    "        even.append(random_integers[0])\n",
    "    else:\n",
    "         if is_prime(random_integers[0],2)  ==True:\n",
    "            prime.append(random_integers[0])  \n",
    "    random_integers.pop(0)\n",
    "    even_prime(random_integers)\n",
    "even_prime(random_integers)\n",
    "print(\"Even:\",even)\n",
    "print(\"Prime:\",prime)\n"
   ]
  },
  {
   "cell_type": "code",
   "execution_count": null,
   "metadata": {},
   "outputs": [],
   "source": []
  }
 ],
 "metadata": {
  "kernelspec": {
   "display_name": "Python 3",
   "language": "python",
   "name": "python3"
  },
  "language_info": {
   "codemirror_mode": {
    "name": "ipython",
    "version": 3
   },
   "file_extension": ".py",
   "mimetype": "text/x-python",
   "name": "python",
   "nbconvert_exporter": "python",
   "pygments_lexer": "ipython3",
   "version": "3.7.3"
  }
 },
 "nbformat": 4,
 "nbformat_minor": 2
}
