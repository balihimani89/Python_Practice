{
 "cells": [
  {
   "cell_type": "code",
   "execution_count": 238,
   "metadata": {},
   "outputs": [],
   "source": [
    "import numpy as np"
   ]
  },
  {
   "cell_type": "code",
   "execution_count": 239,
   "metadata": {},
   "outputs": [],
   "source": [
    "import random"
   ]
  },
  {
   "cell_type": "code",
   "execution_count": 240,
   "metadata": {},
   "outputs": [],
   "source": [
    "def generate_random_bits():\n",
    "    ramdom_probability=np.random.uniform(size=1)\n",
    "    random_length=np.random.randint(128,1025,size=1)\n",
    "    tx_ed_bits=np.random.binomial(n=1,p=ramdom_probability,size=random_length)\n",
    "    return(tx_ed_bits)\n",
    "    "
   ]
  },
  {
   "cell_type": "code",
   "execution_count": 241,
   "metadata": {},
   "outputs": [],
   "source": [
    "def gaussian_noise_values(length):\n",
    "    noise=np.random.randint(-4,+4,size=length) \n",
    "    return noise"
   ]
  },
  {
   "cell_type": "code",
   "execution_count": 242,
   "metadata": {},
   "outputs": [],
   "source": [
    "tx_ed_bits=generate_random_bits()\n",
    "gaussian_noise=gaussian_noise_values(tx_ed_bits.shape[0])"
   ]
  },
  {
   "cell_type": "code",
   "execution_count": 243,
   "metadata": {},
   "outputs": [],
   "source": [
    "def fading_magnitude(distance):\n",
    "    distance_chart={1:(0.8,1),2:(0.6,0.8),3:(0.4,0.6),4:(0.2,0.4),5:(0,0.2)}\n",
    "    low_threshold,high_threshold=distance_chart[distance]\n",
    "    fading=np.random.uniform(low_threshold,high_threshold,size=1)\n",
    "    return(fading)"
   ]
  },
  {
   "cell_type": "code",
   "execution_count": 244,
   "metadata": {},
   "outputs": [],
   "source": [
    "rx_distance=np.random.randint(1,6,size=1)\n",
    "fading=fading_magnitude(rx_distance[0])"
   ]
  },
  {
   "cell_type": "code",
   "execution_count": 245,
   "metadata": {},
   "outputs": [],
   "source": [
    "rx_ed_bits=(tx_ed_bits+gaussian_noise)*fading\n"
   ]
  },
  {
   "cell_type": "code",
   "execution_count": 246,
   "metadata": {},
   "outputs": [],
   "source": [
    "def bits_filtering(noisy_bits):\n",
    "    bits_mean=np.mean(noisy_bits)\n",
    "    bits_std=np.std(noisy_bits)\n",
    "    filtered_bits=(noisy_bits-bits_mean)/bits_std\n",
    "    return filtered_bits"
   ]
  },
  {
   "cell_type": "code",
   "execution_count": 247,
   "metadata": {},
   "outputs": [
    {
     "name": "stdout",
     "output_type": "stream",
     "text": [
      "[-1.2506004   0.87559349  0.45035471  0.02511594  0.02511594  1.30083227\n",
      "  0.02511594  1.30083227  0.45035471 -0.40012284 -1.2506004  -0.40012284\n",
      "  1.30083227  0.02511594  0.87559349  0.02511594 -1.2506004   1.30083227\n",
      " -1.2506004  -0.40012284  0.45035471 -0.40012284  0.87559349 -0.82536162\n",
      "  1.30083227  0.87559349 -0.82536162 -0.82536162  0.45035471 -0.40012284\n",
      "  1.30083227  0.87559349 -0.40012284 -0.82536162 -0.40012284 -0.82536162\n",
      "  0.45035471  0.87559349 -1.2506004  -1.2506004  -0.82536162  1.72607105\n",
      "  0.87559349 -0.40012284  1.30083227  0.02511594  0.45035471 -0.40012284\n",
      "  0.45035471  0.02511594  1.72607105  0.02511594 -0.82536162 -0.40012284\n",
      " -0.82536162  1.30083227  0.87559349 -1.2506004  -0.40012284 -0.82536162\n",
      "  0.02511594  0.45035471 -0.40012284  0.87559349  1.30083227 -1.67583918\n",
      " -0.82536162  0.02511594 -1.2506004  -0.40012284  0.45035471 -0.40012284\n",
      " -0.40012284  0.45035471 -0.82536162  0.87559349  0.02511594 -1.2506004\n",
      " -1.67583918 -1.67583918 -1.2506004  -0.40012284  0.02511594  0.02511594\n",
      " -1.67583918 -1.2506004  -0.82536162  0.45035471 -1.2506004   0.02511594\n",
      "  1.30083227 -1.2506004  -1.67583918 -0.82536162  0.45035471 -1.2506004\n",
      "  0.87559349 -0.82536162 -0.82536162  0.02511594 -1.2506004  -1.2506004\n",
      "  0.02511594  0.02511594 -0.40012284  1.30083227 -0.82536162  0.45035471\n",
      "  0.87559349 -1.67583918 -1.67583918  1.30083227 -1.67583918  1.30083227\n",
      " -1.67583918 -0.82536162 -0.40012284 -0.40012284  1.30083227  0.02511594\n",
      "  0.87559349  1.72607105  1.30083227 -1.2506004  -0.82536162 -1.67583918\n",
      "  0.87559349  0.45035471  0.02511594  0.45035471  1.72607105 -0.82536162\n",
      "  1.30083227 -0.40012284 -0.82536162  0.02511594 -1.67583918 -0.40012284\n",
      " -0.40012284  0.45035471  0.02511594  0.02511594  1.30083227 -0.40012284\n",
      "  1.30083227  0.02511594  0.87559349 -0.82536162 -1.2506004   0.87559349\n",
      " -1.2506004  -0.82536162  0.45035471 -1.2506004  -0.40012284  0.02511594\n",
      " -0.82536162 -0.40012284 -0.82536162 -0.40012284 -0.82536162  0.45035471\n",
      "  1.30083227  0.02511594  0.87559349 -1.2506004  -0.40012284 -0.82536162\n",
      "  0.87559349 -0.82536162  0.87559349 -1.2506004   1.72607105  1.30083227\n",
      " -0.40012284 -0.40012284  0.87559349 -0.82536162  1.30083227 -1.67583918\n",
      "  0.87559349 -1.2506004   0.02511594 -1.2506004   0.45035471 -1.2506004\n",
      "  0.02511594  0.02511594  1.30083227 -0.40012284 -1.2506004   0.87559349\n",
      " -0.40012284 -1.2506004   0.02511594  0.87559349  0.45035471  0.02511594\n",
      "  0.45035471 -1.67583918 -0.40012284 -0.82536162  0.87559349 -0.40012284\n",
      "  0.45035471  0.87559349  0.02511594  1.72607105 -1.2506004   0.45035471\n",
      "  0.87559349  1.30083227  0.02511594 -1.2506004  -0.40012284  1.30083227\n",
      " -1.67583918 -1.2506004   1.30083227  1.30083227  0.87559349 -0.82536162\n",
      "  0.45035471  1.30083227  1.30083227 -1.2506004   1.30083227 -0.82536162\n",
      "  0.45035471 -1.2506004   1.72607105 -1.67583918  1.30083227 -0.82536162\n",
      " -1.2506004   0.02511594 -0.82536162 -1.2506004   1.30083227  0.02511594\n",
      " -1.67583918 -0.82536162 -0.82536162  1.72607105  1.30083227  0.87559349\n",
      "  0.45035471  1.72607105 -0.82536162 -1.2506004  -1.2506004   1.30083227\n",
      "  1.72607105  0.45035471 -0.40012284  0.45035471  1.72607105  1.72607105\n",
      " -0.82536162 -0.40012284  0.02511594  1.72607105  0.87559349 -1.67583918\n",
      "  0.87559349  0.45035471 -1.2506004  -0.82536162  0.02511594  0.45035471\n",
      "  0.02511594 -0.40012284 -1.2506004   0.02511594  0.45035471  0.87559349\n",
      "  1.30083227  0.45035471  1.30083227 -1.67583918 -1.2506004   0.02511594\n",
      "  1.30083227 -0.40012284  1.30083227  0.02511594  0.87559349  1.30083227\n",
      " -1.2506004   0.45035471  1.30083227  0.87559349 -0.40012284  0.02511594\n",
      "  0.45035471  1.30083227  1.30083227  1.30083227  0.02511594  1.72607105\n",
      " -1.67583918 -0.40012284  0.45035471 -1.67583918 -0.82536162 -1.2506004\n",
      " -0.40012284 -1.2506004  -1.67583918  0.45035471  0.02511594 -0.40012284\n",
      "  1.72607105  1.30083227  0.45035471  0.45035471  0.02511594 -1.2506004\n",
      " -0.40012284  1.30083227  0.87559349  0.45035471  1.72607105 -0.40012284\n",
      " -0.40012284  0.87559349 -1.67583918  0.02511594  1.30083227 -0.40012284\n",
      " -0.40012284 -0.40012284 -1.2506004  -0.82536162  1.72607105  1.30083227\n",
      "  0.87559349  0.02511594 -1.67583918 -0.40012284  0.87559349  0.87559349\n",
      "  0.45035471  1.72607105 -1.67583918 -1.2506004   0.87559349  0.45035471\n",
      " -0.40012284  1.72607105 -0.82536162  0.45035471 -1.2506004   0.87559349\n",
      "  0.45035471 -1.67583918  1.30083227 -1.67583918  1.72607105  0.02511594\n",
      " -0.40012284  1.72607105  0.87559349 -0.40012284  1.30083227  1.30083227\n",
      "  0.87559349  0.87559349 -0.40012284  0.87559349  0.02511594  0.02511594\n",
      " -0.40012284 -1.67583918  1.72607105  1.72607105  0.45035471 -1.2506004\n",
      "  0.87559349  0.02511594  1.30083227 -0.40012284  0.45035471  0.45035471\n",
      "  1.30083227 -1.2506004   0.87559349  0.87559349 -0.40012284  1.72607105\n",
      " -0.82536162 -1.2506004  -0.40012284 -0.82536162  0.02511594  1.72607105\n",
      " -0.82536162 -1.67583918 -0.40012284  1.72607105  0.87559349  0.02511594\n",
      "  1.72607105  1.72607105  0.02511594 -1.67583918 -0.82536162  0.02511594\n",
      " -1.2506004   0.45035471 -0.40012284  1.30083227 -0.40012284 -0.40012284\n",
      "  0.45035471 -0.40012284 -1.67583918 -0.40012284 -1.2506004  -0.82536162\n",
      "  1.30083227 -1.2506004  -0.82536162 -0.82536162  0.45035471  0.87559349\n",
      " -0.82536162 -1.2506004   1.30083227  1.72607105 -0.82536162 -0.40012284\n",
      " -0.82536162  1.30083227 -0.82536162  0.87559349 -1.2506004   0.45035471\n",
      "  0.45035471 -0.82536162  0.87559349  0.45035471 -1.67583918  1.30083227\n",
      "  0.45035471  0.02511594 -0.40012284  0.87559349 -0.82536162 -1.2506004\n",
      " -1.67583918  0.87559349  1.30083227 -0.40012284  1.30083227 -1.67583918\n",
      "  1.72607105  0.02511594  0.02511594  0.02511594 -1.67583918  0.02511594\n",
      "  0.45035471  0.02511594 -0.40012284  0.45035471 -0.82536162  0.02511594\n",
      " -0.82536162  1.72607105  1.30083227 -1.2506004   0.02511594 -1.2506004\n",
      "  0.87559349 -0.40012284  0.87559349 -0.82536162 -1.2506004   1.72607105\n",
      "  0.45035471  0.02511594 -1.2506004   0.87559349  0.02511594 -0.40012284\n",
      " -0.40012284 -0.82536162 -1.2506004   0.87559349 -0.82536162]\n"
     ]
    }
   ],
   "source": [
    "filtered_bits=bits_filtering(rx_ed_bits)\n",
    "print(filtered_bits)"
   ]
  },
  {
   "cell_type": "code",
   "execution_count": 248,
   "metadata": {},
   "outputs": [
    {
     "ename": "IndexError",
     "evalue": "index 268 is out of bounds for axis 0 with size 268",
     "output_type": "error",
     "traceback": [
      "\u001b[1;31m---------------------------------------------------------------------------\u001b[0m",
      "\u001b[1;31mIndexError\u001b[0m                                Traceback (most recent call last)",
      "\u001b[1;32m<ipython-input-248-331cd4c034fe>\u001b[0m in \u001b[0;36m<module>\u001b[1;34m\u001b[0m\n\u001b[0;32m      6\u001b[0m    \u001b[1;32melse\u001b[0m\u001b[1;33m:\u001b[0m\u001b[1;33m\u001b[0m\u001b[1;33m\u001b[0m\u001b[0m\n\u001b[0;32m      7\u001b[0m        \u001b[0mrandom_pos\u001b[0m\u001b[1;33m.\u001b[0m\u001b[0mappend\u001b[0m\u001b[1;33m(\u001b[0m\u001b[1;36m0\u001b[0m\u001b[1;33m)\u001b[0m\u001b[1;33m\u001b[0m\u001b[1;33m\u001b[0m\u001b[0m\n\u001b[1;32m----> 8\u001b[1;33m \u001b[0mcomparison_pos\u001b[0m\u001b[1;33m(\u001b[0m\u001b[0mfiltered_bits\u001b[0m\u001b[1;33m)\u001b[0m\u001b[1;33m\u001b[0m\u001b[1;33m\u001b[0m\u001b[0m\n\u001b[0m\u001b[0;32m      9\u001b[0m \u001b[0mprint\u001b[0m\u001b[1;33m(\u001b[0m\u001b[0mfiltered_bits\u001b[0m\u001b[1;33m)\u001b[0m\u001b[1;33m\u001b[0m\u001b[1;33m\u001b[0m\u001b[0m\n",
      "\u001b[1;32m<ipython-input-221-066af9dd95da>\u001b[0m in \u001b[0;36mcomparison_pos\u001b[1;34m(filtered_bits)\u001b[0m\n\u001b[0;32m      2\u001b[0m     \u001b[0mi\u001b[0m\u001b[1;33m=\u001b[0m\u001b[0mj\u001b[0m\u001b[1;33m=\u001b[0m\u001b[1;36m0\u001b[0m\u001b[1;33m\u001b[0m\u001b[1;33m\u001b[0m\u001b[0m\n\u001b[0;32m      3\u001b[0m     \u001b[1;32mfor\u001b[0m \u001b[0mi\u001b[0m \u001b[1;32min\u001b[0m \u001b[0mrange\u001b[0m\u001b[1;33m(\u001b[0m\u001b[0mfiltered_bits\u001b[0m\u001b[1;33m.\u001b[0m\u001b[0mshape\u001b[0m\u001b[1;33m[\u001b[0m\u001b[1;36m0\u001b[0m\u001b[1;33m]\u001b[0m\u001b[1;33m)\u001b[0m\u001b[1;33m:\u001b[0m\u001b[1;33m\u001b[0m\u001b[1;33m\u001b[0m\u001b[0m\n\u001b[1;32m----> 4\u001b[1;33m         \u001b[1;32mif\u001b[0m \u001b[0mfiltered_bits\u001b[0m\u001b[1;33m[\u001b[0m\u001b[0mi\u001b[0m\u001b[1;33m]\u001b[0m\u001b[1;33m==\u001b[0m\u001b[0mpositive_values\u001b[0m\u001b[1;33m[\u001b[0m\u001b[0mj\u001b[0m\u001b[1;33m]\u001b[0m\u001b[1;33m:\u001b[0m\u001b[1;33m\u001b[0m\u001b[1;33m\u001b[0m\u001b[0m\n\u001b[0m\u001b[0;32m      5\u001b[0m             \u001b[0mfiltered_bits\u001b[0m\u001b[1;33m[\u001b[0m\u001b[0mi\u001b[0m\u001b[1;33m]\u001b[0m\u001b[1;33m=\u001b[0m\u001b[0mrandom_pos\u001b[0m\u001b[1;33m[\u001b[0m\u001b[0mj\u001b[0m\u001b[1;33m]\u001b[0m\u001b[1;33m\u001b[0m\u001b[1;33m\u001b[0m\u001b[0m\n\u001b[0;32m      6\u001b[0m             \u001b[0mi\u001b[0m\u001b[1;33m+=\u001b[0m\u001b[1;36m1\u001b[0m\u001b[1;33m\u001b[0m\u001b[1;33m\u001b[0m\u001b[0m\n",
      "\u001b[1;31mIndexError\u001b[0m: index 268 is out of bounds for axis 0 with size 268"
     ]
    }
   ],
   "source": [
    " random_pos=[]\n",
    "positive_values=filtered_bits[filtered_bits>0]\n",
    "for i in range(positive_values.shape[0]):\n",
    "    if positive_values[i]>0.5:\n",
    "        random_pos.append(1)\n",
    "    else:\n",
    "        random_pos.append(0)\n",
    "comparison_pos(filtered_bits)\n",
    "print(filtered_bits)\n"
   ]
  },
  {
   "cell_type": "code",
   "execution_count": 249,
   "metadata": {},
   "outputs": [],
   "source": [
    "def comparison_pos(filtered_bits):\n",
    "    i=j=0\n",
    "    for i in range(filtered_bits.shape[0]):\n",
    "        if filtered_bits[i]==positive_values[j]:\n",
    "            filtered_bits[i]=random_pos[j]\n",
    "            i+=1\n",
    "            j+=1\n",
    "        else:\n",
    "            i+=1\n"
   ]
  },
  {
   "cell_type": "code",
   "execution_count": 254,
   "metadata": {},
   "outputs": [
    {
     "ename": "IndexError",
     "evalue": "index 0 is out of bounds for axis 0 with size 0",
     "output_type": "error",
     "traceback": [
      "\u001b[1;31m---------------------------------------------------------------------------\u001b[0m",
      "\u001b[1;31mIndexError\u001b[0m                                Traceback (most recent call last)",
      "\u001b[1;32m<ipython-input-254-b223d2419787>\u001b[0m in \u001b[0;36m<module>\u001b[1;34m\u001b[0m\n\u001b[0;32m      6\u001b[0m    \u001b[1;32melse\u001b[0m\u001b[1;33m:\u001b[0m\u001b[1;33m\u001b[0m\u001b[1;33m\u001b[0m\u001b[0m\n\u001b[0;32m      7\u001b[0m        \u001b[0mrandom_neg\u001b[0m\u001b[1;33m.\u001b[0m\u001b[0mappend\u001b[0m\u001b[1;33m(\u001b[0m\u001b[1;36m1\u001b[0m\u001b[1;33m)\u001b[0m\u001b[1;33m\u001b[0m\u001b[1;33m\u001b[0m\u001b[0m\n\u001b[1;32m----> 8\u001b[1;33m \u001b[0mcomparison_neg\u001b[0m\u001b[1;33m(\u001b[0m\u001b[0mfiltered_bits\u001b[0m\u001b[1;33m)\u001b[0m\u001b[1;33m\u001b[0m\u001b[1;33m\u001b[0m\u001b[0m\n\u001b[0m",
      "\u001b[1;32m<ipython-input-251-c473e8feeef2>\u001b[0m in \u001b[0;36mcomparison_neg\u001b[1;34m(filtered_bits)\u001b[0m\n\u001b[0;32m      2\u001b[0m     \u001b[0mi\u001b[0m\u001b[1;33m=\u001b[0m\u001b[0mj\u001b[0m\u001b[1;33m=\u001b[0m\u001b[1;36m0\u001b[0m\u001b[1;33m\u001b[0m\u001b[1;33m\u001b[0m\u001b[0m\n\u001b[0;32m      3\u001b[0m     \u001b[1;32mfor\u001b[0m \u001b[0mi\u001b[0m \u001b[1;32min\u001b[0m \u001b[0mrange\u001b[0m\u001b[1;33m(\u001b[0m\u001b[0mfiltered_bits\u001b[0m\u001b[1;33m.\u001b[0m\u001b[0mshape\u001b[0m\u001b[1;33m[\u001b[0m\u001b[1;36m0\u001b[0m\u001b[1;33m]\u001b[0m\u001b[1;33m)\u001b[0m\u001b[1;33m:\u001b[0m\u001b[1;33m\u001b[0m\u001b[1;33m\u001b[0m\u001b[0m\n\u001b[1;32m----> 4\u001b[1;33m         \u001b[1;32mif\u001b[0m \u001b[0mfiltered_bits\u001b[0m\u001b[1;33m[\u001b[0m\u001b[0mi\u001b[0m\u001b[1;33m]\u001b[0m\u001b[1;33m==\u001b[0m\u001b[0mnegetive_values\u001b[0m\u001b[1;33m[\u001b[0m\u001b[0mj\u001b[0m\u001b[1;33m]\u001b[0m\u001b[1;33m:\u001b[0m\u001b[1;33m\u001b[0m\u001b[1;33m\u001b[0m\u001b[0m\n\u001b[0m\u001b[0;32m      5\u001b[0m             \u001b[0mfiltered_bits\u001b[0m\u001b[1;33m[\u001b[0m\u001b[0mi\u001b[0m\u001b[1;33m]\u001b[0m\u001b[1;33m=\u001b[0m\u001b[0mrandom_neg\u001b[0m\u001b[1;33m[\u001b[0m\u001b[0mj\u001b[0m\u001b[1;33m]\u001b[0m\u001b[1;33m\u001b[0m\u001b[1;33m\u001b[0m\u001b[0m\n\u001b[0;32m      6\u001b[0m             \u001b[0mi\u001b[0m\u001b[1;33m+=\u001b[0m\u001b[1;36m1\u001b[0m\u001b[1;33m\u001b[0m\u001b[1;33m\u001b[0m\u001b[0m\n",
      "\u001b[1;31mIndexError\u001b[0m: index 0 is out of bounds for axis 0 with size 0"
     ]
    }
   ],
   "source": [
    " random_neg=[]\n",
    "negetive_values=filtered_bits[filtered_bits<0]\n",
    "for i in range(negetive_values.shape[0]):\n",
    "    if negetive_values[i]<-0.5:\n",
    "        random_neg.append(0)\n",
    "    else:\n",
    "        random_neg.append(1)\n",
    "comparison_neg(filtered_bits)"
   ]
  },
  {
   "cell_type": "code",
   "execution_count": 255,
   "metadata": {},
   "outputs": [],
   "source": [
    "def comparison_neg(filtered_bits):\n",
    "    i=j=0\n",
    "    for i in range(filtered_bits.shape[0]):\n",
    "        if filtered_bits[i]==negetive_values[j]:\n",
    "            filtered_bits[i]=random_neg[j]\n",
    "            i+=1\n",
    "            j+=1\n",
    "        else:\n",
    "            i+=1\n"
   ]
  },
  {
   "cell_type": "code",
   "execution_count": 253,
   "metadata": {},
   "outputs": [
    {
     "name": "stdout",
     "output_type": "stream",
     "text": [
      "INPUT\n",
      "[1 0 1 0 1 1 0 1 1 1 1 0 1 1 0 0 0 1 1 1 0 1 0 1 0 0 0 1 0 0 0 0 0 1 1 0 1\n",
      " 0 0 1 0 1 0 0 1 1 0 1 1 0 1 0 1 0 1 1 1 1 0 1 1 1 0 1 1 0 1 0 0 1 0 1 1 1\n",
      " 1 0 1 0 0 0 1 0 0 1 0 1 0 0 1 1 0 0 0 0 0 1 1 0 1 1 1 1 0 0 0 1 1 1 0 0 0\n",
      " 1 0 1 0 1 0 0 1 0 0 1 1 0 1 0 1 0 1 1 1 0 1 1 1 1 0 0 0 0 1 1 1 0 0 1 1 1\n",
      " 0 0 1 1 1 0 1 0 1 1 1 1 1 0 1 0 0 1 1 0 0 0 0 0 1 1 0 1 0 0 0 0 1 1 1 1 0\n",
      " 1 1 1 1 1 0 1 0 0 1 1 0 1 1 0 1 0 1 1 1 0 0 1 1 1 1 0 1 1 1 1 0 1 0 1 0 1\n",
      " 1 0 1 1 1 0 0 0 1 0 0 0 0 1 0 0 1 1 0 1 0 1 1 1 1 1 1 1 0 0 1 0 1 1 1 1 0\n",
      " 0 0 1 0 0 1 0 1 0 1 1 1 1 0 0 1 0 1 1 1 0 0 0 1 0 0 0 1 1 1 1 0 1 1 1 0 0\n",
      " 0 1 1 1 0 1 1 0 0 0 1 0 0 1 0 1 1 0 0 1 0 0 1 1 1 0 1 1 0 0 0 1 1 0 0 0 1\n",
      " 0 1 0 1 1 0 0 1 0 0 1 0 0 1 1 1 1 0 1 1 0 1 0 1 0 1 1 0 1 0 0 1 1 1 0 1 0\n",
      " 1 1 0 0 1 1 1 0 0 1 0 1 1 1 0 1 1 1 0 1 1 1 0 0 0 1 1 0 1 1 1 1 1 1 1 0 0\n",
      " 1 0 0 1 1 0 1 0 0 0 1 1 0 1 0 1 0 1 1 1 1 1 1 0 1 1 1 1 0 1 1 0 0 1 0 0 1\n",
      " 0 1 1 1 0 1 0 1 1 0 1 0 1 1 0 0 0 0 1 1 1 0 1 1 1 1 1 1 1 0 1 1 1 1 0 1 0\n",
      " 0 1 1 0 0 1 1 1 1 1]\n",
      "Received Bits after Filtering and Comparison\n",
      "[0. 1. 0. 0. 0. 1. 0. 1. 0. 1. 0. 1. 1. 0. 1. 0. 0. 1. 0. 1. 0. 1. 1. 0.\n",
      " 1. 1. 0. 0. 0. 1. 1. 1. 1. 0. 1. 0. 0. 1. 0. 0. 0. 1. 1. 1. 1. 0. 0. 1.\n",
      " 0. 0. 1. 0. 0. 1. 0. 1. 1. 0. 1. 0. 0. 0. 1. 1. 1. 0. 0. 0. 0. 1. 0. 1.\n",
      " 1. 0. 0. 1. 0. 0. 0. 0. 0. 1. 0. 0. 0. 0. 0. 0. 0. 0. 1. 0. 0. 0. 0. 0.\n",
      " 1. 0. 0. 0. 0. 0. 0. 0. 1. 1. 0. 0. 1. 0. 0. 1. 0. 1. 0. 0. 1. 1. 1. 0.\n",
      " 1. 1. 1. 0. 0. 0. 1. 0. 0. 0. 1. 0. 1. 1. 0. 0. 0. 1. 1. 0. 0. 0. 1. 1.\n",
      " 1. 0. 1. 0. 0. 1. 0. 0. 0. 0. 1. 0. 0. 1. 0. 1. 0. 0. 1. 0. 1. 0. 1. 0.\n",
      " 1. 0. 1. 0. 1. 1. 1. 1. 1. 0. 1. 0. 1. 0. 0. 0. 0. 0. 0. 0. 1. 1. 0. 1.\n",
      " 1. 0. 0. 1. 0. 0. 0. 0. 1. 0. 1. 1. 0. 1. 0. 1. 0. 0. 1. 1. 0. 0. 1. 1.\n",
      " 0. 0. 1. 1. 1. 0. 0. 1. 1. 0. 1. 0. 0. 0. 1. 0. 1. 0. 0. 0. 0. 0. 1. 0.\n",
      " 0. 0. 0. 1. 1. 1. 0. 1. 0. 0. 0. 1. 1. 0. 1. 0. 1. 1. 0. 1. 0. 1. 1. 0.\n",
      " 1. 0. 0. 0. 0. 0. 0. 1. 0. 0. 0. 1. 1. 0. 1. 0. 0. 0. 1. 1. 1. 0. 1. 1.\n",
      " 0. 0. 1. 1. 1. 0. 0. 1. 1. 1. 0. 1. 0. 1. 0. 0. 0. 0. 1. 0. 0. 0. 0. 1.\n",
      " 1. 1. 0. 0. 0. 0. 1. 1. 1. 0. 1. 1. 1. 1. 0. 0. 1. 1. 1. 1. 0. 0. 1. 1.\n",
      " 1. 0. 0. 1. 1. 1. 0. 1. 0. 0. 1. 0. 1. 1. 0. 0. 0. 1. 0. 0. 1. 0. 1. 0.\n",
      " 1. 1. 1. 1. 1. 1. 1. 1. 1. 1. 0. 0. 1. 0. 1. 1. 0. 0. 1. 0. 1. 1. 0. 0.\n",
      " 1. 0. 1. 1. 1. 1. 0. 0. 1. 0. 0. 1. 0. 0. 1. 1. 1. 0. 1. 1. 0. 0. 0. 0.\n",
      " 0. 0. 1. 1. 1. 1. 0. 1. 0. 1. 0. 0. 1. 0. 0. 0. 0. 1. 0. 0. 1. 1. 0. 1.\n",
      " 0. 1. 0. 1. 0. 0. 0. 0. 1. 0. 0. 1. 0. 0. 1. 1. 0. 0. 0. 1. 1. 1. 1. 0.\n",
      " 1. 0. 0. 0. 0. 0. 0. 0. 1. 0. 0. 0. 0. 1. 1. 0. 0. 0. 1. 1. 1. 0. 0. 1.\n",
      " 0. 0. 0. 1. 0. 1. 1. 0. 0. 1. 0.]\n"
     ]
    }
   ],
   "source": [
    "print(\"INPUT\")\n",
    "print(tx_ed_bits)\n",
    "print(\"Received Bits after Filtering and Comparison\")\n",
    "print(filtered_bits)"
   ]
  },
  {
   "cell_type": "code",
   "execution_count": 264,
   "metadata": {},
   "outputs": [
    {
     "ename": "IndexError",
     "evalue": "index 390 is out of bounds for axis 0 with size 390",
     "output_type": "error",
     "traceback": [
      "\u001b[1;31m---------------------------------------------------------------------------\u001b[0m",
      "\u001b[1;31mIndexError\u001b[0m                                Traceback (most recent call last)",
      "\u001b[1;32m<ipython-input-264-a9efad204da6>\u001b[0m in \u001b[0;36m<module>\u001b[1;34m\u001b[0m\n\u001b[0;32m     12\u001b[0m     \u001b[1;32melse\u001b[0m\u001b[1;33m:\u001b[0m\u001b[1;33m\u001b[0m\u001b[1;33m\u001b[0m\u001b[0m\n\u001b[0;32m     13\u001b[0m         \u001b[0mrandom_pos\u001b[0m\u001b[1;33m.\u001b[0m\u001b[0mappend\u001b[0m\u001b[1;33m(\u001b[0m\u001b[1;36m0\u001b[0m\u001b[1;33m)\u001b[0m\u001b[1;33m\u001b[0m\u001b[1;33m\u001b[0m\u001b[0m\n\u001b[1;32m---> 14\u001b[1;33m \u001b[0mcomparison_pos\u001b[0m\u001b[1;33m(\u001b[0m\u001b[0mfiltered_bits\u001b[0m\u001b[1;33m)\u001b[0m\u001b[1;33m\u001b[0m\u001b[1;33m\u001b[0m\u001b[0m\n\u001b[0m\u001b[0;32m     15\u001b[0m \u001b[0mrandom_neg\u001b[0m\u001b[1;33m=\u001b[0m\u001b[1;33m[\u001b[0m\u001b[1;33m]\u001b[0m\u001b[1;33m\u001b[0m\u001b[1;33m\u001b[0m\u001b[0m\n\u001b[0;32m     16\u001b[0m \u001b[0mnegetive_values\u001b[0m\u001b[1;33m=\u001b[0m\u001b[0mfiltered_bits\u001b[0m\u001b[1;33m[\u001b[0m\u001b[0mfiltered_bits\u001b[0m\u001b[1;33m<\u001b[0m\u001b[1;36m0\u001b[0m\u001b[1;33m]\u001b[0m\u001b[1;33m\u001b[0m\u001b[1;33m\u001b[0m\u001b[0m\n",
      "\u001b[1;32m<ipython-input-249-066af9dd95da>\u001b[0m in \u001b[0;36mcomparison_pos\u001b[1;34m(filtered_bits)\u001b[0m\n\u001b[0;32m      2\u001b[0m     \u001b[0mi\u001b[0m\u001b[1;33m=\u001b[0m\u001b[0mj\u001b[0m\u001b[1;33m=\u001b[0m\u001b[1;36m0\u001b[0m\u001b[1;33m\u001b[0m\u001b[1;33m\u001b[0m\u001b[0m\n\u001b[0;32m      3\u001b[0m     \u001b[1;32mfor\u001b[0m \u001b[0mi\u001b[0m \u001b[1;32min\u001b[0m \u001b[0mrange\u001b[0m\u001b[1;33m(\u001b[0m\u001b[0mfiltered_bits\u001b[0m\u001b[1;33m.\u001b[0m\u001b[0mshape\u001b[0m\u001b[1;33m[\u001b[0m\u001b[1;36m0\u001b[0m\u001b[1;33m]\u001b[0m\u001b[1;33m)\u001b[0m\u001b[1;33m:\u001b[0m\u001b[1;33m\u001b[0m\u001b[1;33m\u001b[0m\u001b[0m\n\u001b[1;32m----> 4\u001b[1;33m         \u001b[1;32mif\u001b[0m \u001b[0mfiltered_bits\u001b[0m\u001b[1;33m[\u001b[0m\u001b[0mi\u001b[0m\u001b[1;33m]\u001b[0m\u001b[1;33m==\u001b[0m\u001b[0mpositive_values\u001b[0m\u001b[1;33m[\u001b[0m\u001b[0mj\u001b[0m\u001b[1;33m]\u001b[0m\u001b[1;33m:\u001b[0m\u001b[1;33m\u001b[0m\u001b[1;33m\u001b[0m\u001b[0m\n\u001b[0m\u001b[0;32m      5\u001b[0m             \u001b[0mfiltered_bits\u001b[0m\u001b[1;33m[\u001b[0m\u001b[0mi\u001b[0m\u001b[1;33m]\u001b[0m\u001b[1;33m=\u001b[0m\u001b[0mrandom_pos\u001b[0m\u001b[1;33m[\u001b[0m\u001b[0mj\u001b[0m\u001b[1;33m]\u001b[0m\u001b[1;33m\u001b[0m\u001b[1;33m\u001b[0m\u001b[0m\n\u001b[0;32m      6\u001b[0m             \u001b[0mi\u001b[0m\u001b[1;33m+=\u001b[0m\u001b[1;36m1\u001b[0m\u001b[1;33m\u001b[0m\u001b[1;33m\u001b[0m\u001b[0m\n",
      "\u001b[1;31mIndexError\u001b[0m: index 390 is out of bounds for axis 0 with size 390"
     ]
    }
   ],
   "source": [
    "tx_ed_bits=generate_random_bits()\n",
    "gaussian_noise=gaussian_noise_values(tx_ed_bits.shape[0])\n",
    "rx_distance=np.random.randint(1,6,size=1)\n",
    "fading=fading_magnitude(rx_distance[0])\n",
    "rx_ed_bits=(tx_ed_bits+gaussian_noise)*fading\n",
    "filtered_bits=bits_filtering(rx_ed_bits)\n",
    "random_pos=[]\n",
    "positive_values=filtered_bits[filtered_bits>0]\n",
    "for i in range(positive_values.shape[0]):\n",
    "    if positive_values[i]>0.5:\n",
    "         random_pos.append(1)\n",
    "    else:\n",
    "        random_pos.append(0)\n",
    "comparison_pos(filtered_bits)\n",
    "random_neg=[]\n",
    "negetive_values=filtered_bits[filtered_bits<0]\n",
    "for i in range(negetive_values.shape[0]):\n",
    "    if negetive_values[i]<-0.5:\n",
    "        random_neg.append(0)\n",
    "    else:\n",
    "        random_neg.append(1)\n",
    "comparison_neg(filtered_bits)    "
   ]
  },
  {
   "cell_type": "code",
   "execution_count": 274,
   "metadata": {},
   "outputs": [
    {
     "name": "stdout",
     "output_type": "stream",
     "text": [
      "INPUT\n",
      "[1 1 1 1 1 1 1 1 1 1 1 1 1 1 1 1 1 1 1 1 1 1 1 1 0 1 1 1 1 1 1 1 0 1 1 1 1\n",
      " 1 1 1 1 1 1 1 1 1 1 1 0 1 1 1 1 1 0 1 1 1 1 1 1 1 1 1 1 1 1 1 1 1 1 1 1 0\n",
      " 1 1 1 1 1 1 1 1 1 1 1 1 1 0 1 1 1 1 1 1 1 1 1 1 1 1 1 1 1 1 1 1 1 1 1 1 1\n",
      " 1 1 1 1 1 1 1 1 1 1 1 1 1 1 1 1 1 1 1 1 1 1 1 1 1 1 0 1 1 1 1 1 1 1 1 1 1\n",
      " 1 1 1 1 1 1 1 1 1 1 0 1 1 1 1 1 1 1 1 1 1 1 1 1 1 1 1 0 1 0 1 1 1 1 1 1 1\n",
      " 1 0 1 1 1 1 1 1 1 1 1 1 1 1 1 1 1 1 1 1 0 1 1 1 1 1 1 1 1 1 1 1 1 1 1 1 1\n",
      " 1 1 1 1 1 1 1 1 1 0 1 1 1 1 1 0 1 0 1 1 1 1 1 1 0 0 1 0 1 1 1 1 1 1 1 1 1\n",
      " 1 1 1 1 1 1 0 1 1 1 1 1 1 1 1 1 1 1 1 1 1 1 1 1 0 1 1 1 1 1 1 0 1 1 1 1 1\n",
      " 1 1 1 1 1 1 1 1 1 1 1 1 1 1 1 1 1 0 1 0 1 1 1 1 1 1 1 1 1 0 1 1 1 1 1 1 1\n",
      " 0 1 1 1 1 1 1 0 0 1 1 1 1 1 1 1 1 1 1 1 1 0 0 1 1 1 1 1 1 1 0 1 0 1 1 1 1\n",
      " 1 1 1 1 1 0 1 0 1 1 1 1 1 1 0 1 1 0 1 1 1 1 1 0 1 1 1 1 1 1 1 1 1 1 1 1 0\n",
      " 1 1 1 1 1 1 0 0 1 1 0 1 1 1 1 0 1 1 1 1 1 1 1 1 1 0 1 1 1 1 0 1 1 1 1 1 1\n",
      " 1 1 1 1 0 1 1 1 1 1 1 1 1 1 1 1 1 1 1 1 1 1 0 1 1 1 1 1 0 1 1 1 1 1 1 1 1\n",
      " 1 1 1 1 1 1 1 1 1 1 1 0 1 1 1 1 0 1 0 1 1 1 1 0 1 1 1 1 1 1 1 1 1 1 1 1 1\n",
      " 1 1 1 1 1 1 1 1 1 1 1 1 1 1 1 1 1 1 1 1 1 1 1 1 0 0 1 1 1 1 1 1 1 1 1 1 1\n",
      " 0 1 1 0 1 1 1 1 1 1 1 1 0 1 1 1 1 1 1 1 0 0 1 1 1 1 0 1 1 1 1 1 1 1 1 1 1\n",
      " 1 1 1 1 1 1 1 0 1 1 0 1 1 1 0 1 1 1 1 0 1 1 1 1 0 1 1 1 1 1 1 1 1 1 1 1 1\n",
      " 1 1 1 1 1 1 1 1 0 1 1 1 1 1 1 1 1 1 1 1 1 1 0 1 1 1 0 1 1 1 1 1 0 0 1 1 1\n",
      " 1 1 1 1 1 1 1 1 1 1 1 1 1 1 0 1 1 0 1 1 1 1 1 1 1 1 1 1 0 1 1 1 1 1 1 1 1\n",
      " 1 1 1 1 1 1 1 1 1 1 1 1 1 1 1 1 1 1 1 1 1 1 1 1 1 1 1 1 1 1 1 1 1 1 1 1 1\n",
      " 1 1 1 1 1 1 1 1 1 1 1 1 1 1 1 1 1 1 1 1 1 1 1 0 1 1 1 1 1 0 1 1 0 0 1 1 1\n",
      " 1 1 1 1 0 1 1 1 1 1 1 1 1 1 1 1 1 1 1 1 1 1 1 1 1 0 1 1 1 0 1 1 1 0 1 1 1\n",
      " 1 1 1 1 0 1 1 1 1 1 1 1 1 1 1 1 1 0 0 1 1]\n",
      "Received Bits after Filtering and Comparison\n",
      "[0. 0. 0. 1. 1. 0. 1. 0. 0. 1. 1. 0. 0. 1. 1. 1. 0. 0. 1. 0. 1. 0. 1. 1.\n",
      " 1. 1. 0. 0. 0. 1. 1. 1. 0. 0. 1. 1. 1. 1. 1. 1. 0. 1. 0. 1. 0. 1. 1. 0.\n",
      " 0. 1. 1. 0. 0. 1. 1. 0. 0. 1. 0. 0. 1. 1. 0. 1. 0. 0. 1. 1. 1. 0. 0. 1.\n",
      " 0. 0. 0. 1. 1. 1. 1. 0. 1. 1. 0. 0. 1. 1. 1. 0. 0. 0. 0. 0. 0. 1. 1. 0.\n",
      " 1. 1. 0. 0. 1. 0. 0. 0. 0. 0. 0. 0. 0. 1. 1. 1. 1. 1. 1. 1. 0. 0. 1. 0.\n",
      " 1. 0. 0. 0. 1. 0. 1. 1. 0. 0. 1. 1. 1. 1. 1. 1. 0. 0. 0. 1. 0. 1. 1. 1.\n",
      " 1. 1. 1. 1. 1. 0. 0. 1. 0. 1. 0. 1. 0. 0. 1. 0. 1. 0. 1. 0. 1. 0. 0. 1.\n",
      " 1. 1. 1. 1. 1. 1. 1. 1. 1. 0. 1. 1. 0. 0. 0. 1. 0. 1. 1. 0. 0. 1. 0. 0.\n",
      " 1. 0. 0. 1. 1. 1. 0. 1. 0. 0. 1. 0. 1. 0. 1. 0. 1. 0. 1. 1. 1. 0. 1. 1.\n",
      " 0. 1. 0. 1. 0. 1. 0. 0. 1. 0. 1. 1. 0. 1. 1. 0. 0. 0. 1. 0. 1. 0. 0. 0.\n",
      " 0. 1. 0. 0. 0. 0. 0. 0. 0. 1. 0. 1. 0. 0. 0. 0. 1. 0. 1. 0. 0. 0. 0. 1.\n",
      " 1. 1. 0. 0. 1. 0. 0. 0. 0. 1. 1. 0. 1. 0. 1. 0. 0. 1. 1. 0. 1. 0. 1. 1.\n",
      " 0. 1. 1. 1. 1. 0. 1. 1. 1. 1. 1. 0. 1. 1. 0. 0. 1. 1. 0. 1. 1. 1. 0. 1.\n",
      " 0. 1. 0. 0. 1. 0. 1. 0. 1. 1. 1. 0. 1. 0. 0. 0. 0. 1. 0. 0. 0. 1. 0. 1.\n",
      " 0. 1. 0. 1. 0. 0. 1. 0. 1. 0. 0. 1. 0. 0. 1. 0. 0. 1. 0. 0. 1. 0. 0. 0.\n",
      " 0. 0. 1. 0. 1. 1. 1. 0. 0. 1. 1. 0. 0. 1. 0. 0. 1. 1. 0. 1. 1. 1. 1. 0.\n",
      " 0. 1. 0. 0. 0. 1. 1. 0. 0. 1. 0. 1. 0. 0. 0. 0. 0. 1. 1. 1. 1. 0. 0. 0.\n",
      " 0. 1. 1. 1. 0. 1. 0. 0. 1. 0. 1. 1. 1. 1. 0. 1. 0. 1. 1. 1. 0. 1. 0. 0.\n",
      " 0. 1. 1. 1. 0. 0. 0. 0. 0. 1. 0. 0. 1. 1. 0. 1. 1. 1. 1. 0. 1. 0. 0. 0.\n",
      " 1. 0. 1. 1. 1. 1. 0. 0. 1. 1. 0. 0. 0. 0. 1. 0. 0. 0. 1. 1. 1. 0. 1. 1.\n",
      " 0. 0. 0. 1. 1. 1. 0. 0. 1. 0. 0. 0. 0. 0. 0. 1. 0. 1. 0. 0. 1. 1. 0. 0.\n",
      " 0. 0. 0. 0. 1. 1. 1. 0. 1. 0. 0. 1. 0. 1. 1. 0. 0. 0. 0. 0. 0. 1. 1. 0.\n",
      " 1. 0. 0. 1. 1. 1. 0. 1. 1. 0. 1. 0. 0. 1. 0. 0. 1. 1. 0. 1. 0. 0. 0. 0.\n",
      " 0. 1. 1. 1. 1. 1. 0. 1. 1. 1. 0. 0. 1. 1. 0. 1. 1. 0. 1. 1. 1. 1. 1. 1.\n",
      " 0. 1. 1. 1. 0. 0. 0. 1. 0. 1. 1. 1. 0. 1. 0. 0. 1. 0. 1. 1. 1. 0. 1. 0.\n",
      " 0. 0. 1. 0. 1. 1. 0. 1. 0. 0. 0. 0. 0. 1. 1. 0. 0. 0. 1. 1. 1. 1. 1. 1.\n",
      " 0. 1. 1. 0. 0. 0. 1. 0. 0. 1. 1. 0. 0. 0. 0. 0. 0. 0. 0. 0. 0. 0. 0. 0.\n",
      " 1. 1. 0. 0. 0. 1. 0. 0. 0. 1. 1. 1. 0. 0. 0. 1. 0. 1. 1. 0. 0. 0. 0. 1.\n",
      " 0. 1. 0. 1. 0. 0. 0. 1. 0. 1. 0. 0. 0. 1. 1. 1. 1. 0. 0. 1. 0. 1. 1. 0.\n",
      " 0. 1. 1. 0. 0. 1. 1. 1. 0. 1. 0. 1. 1. 1. 1. 0. 0. 0. 1. 0. 1. 1. 1. 1.\n",
      " 1. 1. 0. 0. 1. 1. 0. 1. 1. 1. 0. 0. 1. 0. 1. 1. 1. 0. 1. 1. 1. 1. 0. 0.\n",
      " 1. 0. 1. 0. 0. 1. 0. 0. 0. 1. 1. 1. 1. 0. 0. 0. 1. 0. 0. 0. 0. 1. 0. 0.\n",
      " 1. 1. 0. 0. 0. 1. 1. 1. 1. 0. 0. 0. 1. 0. 1. 1. 0. 0. 0. 1. 1. 1. 1. 0.\n",
      " 0. 0. 1. 0. 1. 1. 1. 0. 0. 1. 1. 1. 1. 1. 0. 0. 1. 0. 0. 0. 1. 1. 1. 1.\n",
      " 0. 1. 0. 0. 0. 1. 0. 1. 0. 1. 0. 0. 1. 1. 1. 1. 0. 1. 1.]\n"
     ]
    }
   ],
   "source": [
    "print(\"INPUT\")\n",
    "print(tx_ed_bits)\n",
    "print(\"Received Bits after Filtering and Comparison\")\n",
    "print(filtered_bits)"
   ]
  },
  {
   "cell_type": "code",
   "execution_count": 275,
   "metadata": {},
   "outputs": [
    {
     "ename": "IndexError",
     "evalue": "index 434 is out of bounds for axis 0 with size 434",
     "output_type": "error",
     "traceback": [
      "\u001b[1;31m---------------------------------------------------------------------------\u001b[0m",
      "\u001b[1;31mIndexError\u001b[0m                                Traceback (most recent call last)",
      "\u001b[1;32m<ipython-input-275-67c77e341cbc>\u001b[0m in \u001b[0;36m<module>\u001b[1;34m\u001b[0m\n\u001b[0;32m     14\u001b[0m        \u001b[1;32melse\u001b[0m\u001b[1;33m:\u001b[0m\u001b[1;33m\u001b[0m\u001b[1;33m\u001b[0m\u001b[0m\n\u001b[0;32m     15\u001b[0m            \u001b[0mrandom_pos\u001b[0m\u001b[1;33m.\u001b[0m\u001b[0mappend\u001b[0m\u001b[1;33m(\u001b[0m\u001b[1;36m0\u001b[0m\u001b[1;33m)\u001b[0m\u001b[1;33m\u001b[0m\u001b[1;33m\u001b[0m\u001b[0m\n\u001b[1;32m---> 16\u001b[1;33m    \u001b[0mcomparison_pos\u001b[0m\u001b[1;33m(\u001b[0m\u001b[0mfiltered_bits\u001b[0m\u001b[1;33m)\u001b[0m\u001b[1;33m\u001b[0m\u001b[1;33m\u001b[0m\u001b[0m\n\u001b[0m\u001b[0;32m     17\u001b[0m    \u001b[0mrandom_neg\u001b[0m\u001b[1;33m=\u001b[0m\u001b[1;33m[\u001b[0m\u001b[1;33m]\u001b[0m\u001b[1;33m\u001b[0m\u001b[1;33m\u001b[0m\u001b[0m\n\u001b[0;32m     18\u001b[0m    \u001b[0mnegetive_values\u001b[0m\u001b[1;33m=\u001b[0m\u001b[0mfiltered_bits\u001b[0m\u001b[1;33m[\u001b[0m\u001b[0mfiltered_bits\u001b[0m\u001b[1;33m<\u001b[0m\u001b[1;36m0\u001b[0m\u001b[1;33m]\u001b[0m\u001b[1;33m\u001b[0m\u001b[1;33m\u001b[0m\u001b[0m\n",
      "\u001b[1;32m<ipython-input-249-066af9dd95da>\u001b[0m in \u001b[0;36mcomparison_pos\u001b[1;34m(filtered_bits)\u001b[0m\n\u001b[0;32m      2\u001b[0m     \u001b[0mi\u001b[0m\u001b[1;33m=\u001b[0m\u001b[0mj\u001b[0m\u001b[1;33m=\u001b[0m\u001b[1;36m0\u001b[0m\u001b[1;33m\u001b[0m\u001b[1;33m\u001b[0m\u001b[0m\n\u001b[0;32m      3\u001b[0m     \u001b[1;32mfor\u001b[0m \u001b[0mi\u001b[0m \u001b[1;32min\u001b[0m \u001b[0mrange\u001b[0m\u001b[1;33m(\u001b[0m\u001b[0mfiltered_bits\u001b[0m\u001b[1;33m.\u001b[0m\u001b[0mshape\u001b[0m\u001b[1;33m[\u001b[0m\u001b[1;36m0\u001b[0m\u001b[1;33m]\u001b[0m\u001b[1;33m)\u001b[0m\u001b[1;33m:\u001b[0m\u001b[1;33m\u001b[0m\u001b[1;33m\u001b[0m\u001b[0m\n\u001b[1;32m----> 4\u001b[1;33m         \u001b[1;32mif\u001b[0m \u001b[0mfiltered_bits\u001b[0m\u001b[1;33m[\u001b[0m\u001b[0mi\u001b[0m\u001b[1;33m]\u001b[0m\u001b[1;33m==\u001b[0m\u001b[0mpositive_values\u001b[0m\u001b[1;33m[\u001b[0m\u001b[0mj\u001b[0m\u001b[1;33m]\u001b[0m\u001b[1;33m:\u001b[0m\u001b[1;33m\u001b[0m\u001b[1;33m\u001b[0m\u001b[0m\n\u001b[0m\u001b[0;32m      5\u001b[0m             \u001b[0mfiltered_bits\u001b[0m\u001b[1;33m[\u001b[0m\u001b[0mi\u001b[0m\u001b[1;33m]\u001b[0m\u001b[1;33m=\u001b[0m\u001b[0mrandom_pos\u001b[0m\u001b[1;33m[\u001b[0m\u001b[0mj\u001b[0m\u001b[1;33m]\u001b[0m\u001b[1;33m\u001b[0m\u001b[1;33m\u001b[0m\u001b[0m\n\u001b[0;32m      6\u001b[0m             \u001b[0mi\u001b[0m\u001b[1;33m+=\u001b[0m\u001b[1;36m1\u001b[0m\u001b[1;33m\u001b[0m\u001b[1;33m\u001b[0m\u001b[0m\n",
      "\u001b[1;31mIndexError\u001b[0m: index 434 is out of bounds for axis 0 with size 434"
     ]
    }
   ],
   "source": [
    " for i in range(3600):\n",
    "    generate_random_bits()\n",
    "    tx_ed_bits=generate_random_bits()\n",
    "    gaussian_noise=gaussian_noise_values(tx_ed_bits.shape[0])\n",
    "    rx_distance=np.random.randint(1,6,size=1)\n",
    "    fading=fading_magnitude(rx_distance[0])\n",
    "    rx_ed_bits=(tx_ed_bits+gaussian_noise)*fading\n",
    "    filtered_bits=bits_filtering(rx_ed_bits)\n",
    "    random_pos=[]\n",
    "    positive_values=filtered_bits[filtered_bits>0]\n",
    "    for i in range(positive_values.shape[0]):\n",
    "        if positive_values[i]>0.5:\n",
    "            random_pos.append(1)\n",
    "        else:\n",
    "            random_pos.append(0)\n",
    "    comparison_pos(filtered_bits)\n",
    "    random_neg=[]\n",
    "    negetive_values=filtered_bits[filtered_bits<0]\n",
    "    for i in range(negetive_values.shape[0]):\n",
    "        if negetive_values[i]<-0.5:\n",
    "            random_neg.append(0)\n",
    "        else:\n",
    "            random_neg.append(1)\n",
    "    comparison_neg(filtered_bits) "
   ]
  },
  {
   "cell_type": "code",
   "execution_count": 276,
   "metadata": {},
   "outputs": [],
   "source": [
    "#how to remove this error the output is not coming when writing print with the main program \n",
    "#but its coming when putting in other cell. Due to the error the loop is not going for 3600 times"
   ]
  },
  {
   "cell_type": "code",
   "execution_count": null,
   "metadata": {},
   "outputs": [],
   "source": []
  }
 ],
 "metadata": {
  "kernelspec": {
   "display_name": "Python 3",
   "language": "python",
   "name": "python3"
  },
  "language_info": {
   "codemirror_mode": {
    "name": "ipython",
    "version": 3
   },
   "file_extension": ".py",
   "mimetype": "text/x-python",
   "name": "python",
   "nbconvert_exporter": "python",
   "pygments_lexer": "ipython3",
   "version": "3.7.3"
  }
 },
 "nbformat": 4,
 "nbformat_minor": 2
}
