{
 "cells": [
  {
   "cell_type": "code",
   "execution_count": 152,
   "metadata": {},
   "outputs": [],
   "source": [
    "import random"
   ]
  },
  {
   "cell_type": "code",
   "execution_count": 153,
   "metadata": {},
   "outputs": [],
   "source": [
    "list=[]"
   ]
  },
  {
   "cell_type": "code",
   "execution_count": 154,
   "metadata": {},
   "outputs": [],
   "source": [
    "for i in range(0,100):\n",
    "    list.append(random.randint(100,400))"
   ]
  },
  {
   "cell_type": "code",
   "execution_count": 155,
   "metadata": {},
   "outputs": [
    {
     "name": "stdout",
     "output_type": "stream",
     "text": [
      "[388, 383, 263, 130, 257, 341, 112, 163, 277, 276, 262, 129, 198, 136, 233, 362, 313, 186, 217, 372, 194, 303, 306, 220, 308, 358, 117, 312, 186, 276, 394, 325, 155, 399, 101, 137, 269, 308, 171, 320, 354, 190, 229, 197, 376, 202, 226, 155, 297, 392, 147, 140, 361, 267, 296, 325, 308, 263, 124, 351, 211, 114, 219, 184, 195, 378, 278, 248, 160, 109, 184, 252, 178, 173, 111, 241, 198, 192, 316, 256, 204, 235, 208, 302, 321, 237, 310, 105, 267, 292, 355, 331, 278, 350, 237, 340, 185, 243, 241, 329]\n"
     ]
    }
   ],
   "source": [
    "print(list)"
   ]
  },
  {
   "cell_type": "code",
   "execution_count": 156,
   "metadata": {},
   "outputs": [],
   "source": [
    "even=[]\n",
    "prime=[]\n",
    "for i in range(0,100):\n",
    "    if list[i]%2==0:\n",
    "        even.append(list[i])\n",
    "    for divisor in range(2,list[i]):\n",
    "            if list[i]%divisor==0:\n",
    "                break\n",
    "    if divisor==(list[i]-1):\n",
    "        prime.append(list[i])\n",
    "    "
   ]
  },
  {
   "cell_type": "code",
   "execution_count": 157,
   "metadata": {},
   "outputs": [
    {
     "name": "stdout",
     "output_type": "stream",
     "text": [
      "[388, 130, 112, 276, 262, 198, 136, 362, 186, 372, 194, 306, 220, 308, 358, 312, 186, 276, 394, 308, 320, 354, 190, 376, 202, 226, 392, 140, 296, 308, 124, 114, 184, 378, 278, 248, 160, 184, 252, 178, 198, 192, 316, 256, 204, 208, 302, 310, 292, 278, 350, 340]\n"
     ]
    }
   ],
   "source": [
    "print(even)"
   ]
  },
  {
   "cell_type": "code",
   "execution_count": 158,
   "metadata": {},
   "outputs": [
    {
     "name": "stdout",
     "output_type": "stream",
     "text": [
      "[383, 263, 257, 163, 277, 233, 313, 101, 137, 269, 229, 197, 263, 211, 109, 173, 241, 331, 241]\n"
     ]
    }
   ],
   "source": [
    "print(prime)"
   ]
  },
  {
   "cell_type": "code",
   "execution_count": 138,
   "metadata": {},
   "outputs": [
    {
     "name": "stdout",
     "output_type": "stream",
     "text": [
      "[241, 331, 331, 227, 263, 239, 197, 353, 337, 103, 223, 293, 383]\n"
     ]
    }
   ],
   "source": []
  },
  {
   "cell_type": "code",
   "execution_count": null,
   "metadata": {},
   "outputs": [],
   "source": []
  },
  {
   "cell_type": "code",
   "execution_count": null,
   "metadata": {},
   "outputs": [],
   "source": []
  },
  {
   "cell_type": "code",
   "execution_count": null,
   "metadata": {},
   "outputs": [],
   "source": []
  }
 ],
 "metadata": {
  "kernelspec": {
   "display_name": "Python 3",
   "language": "python",
   "name": "python3"
  },
  "language_info": {
   "codemirror_mode": {
    "name": "ipython",
    "version": 3
   },
   "file_extension": ".py",
   "mimetype": "text/x-python",
   "name": "python",
   "nbconvert_exporter": "python",
   "pygments_lexer": "ipython3",
   "version": "3.7.3"
  }
 },
 "nbformat": 4,
 "nbformat_minor": 2
}
